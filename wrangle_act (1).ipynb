{
  "nbformat": 4,
  "nbformat_minor": 0,
  "metadata": {
    "colab": {
      "name": "wrangle_act.ipynb",
      "provenance": []
    },
    "kernelspec": {
      "name": "python3",
      "display_name": "Python 3"
    },
    "language_info": {
      "name": "python"
    }
  },
  "cells": [
    {
      "cell_type": "markdown",
      "source": [
        "#Wrangle and Analyze Data\n",
        "##Project Details\n",
        "###The tasks in this project are as follows:\n",
        "\n",
        "###Data wrangling, which consists of:\n",
        "* Gathering data\n",
        "* Assessing data\n",
        "* Cleaning data\n",
        "* Storing, analyzing, and visualizing your wrangled data\n",
        "* Reporting on \n",
        "  * Data wrangling efforts \n",
        "  * Data analyses and visualizations\n"
      ],
      "metadata": {
        "id": "NZ2HGt7yaszH"
      }
    },
    {
      "cell_type": "code",
      "execution_count": 1,
      "metadata": {
        "id": "oig7KWUVMf3a"
      },
      "outputs": [],
      "source": [
        "import pandas as pd\n",
        "import numpy as np\n",
        "import matplotlib.pyplot as plt\n",
        "import seaborn as sns\n",
        "import requests\n",
        "import tweepy \n",
        "import json\n",
        "import re\n",
        "from datetime import datetime\n",
        "from functools import reduce\n",
        "from IPython.display import Image\n",
        "%matplotlib inline"
      ]
    },
    {
      "cell_type": "markdown",
      "source": [
        "#Gathering the data"
      ],
      "metadata": {
        "id": "0ILcD2Snde3z"
      }
    },
    {
      "cell_type": "markdown",
      "source": [
        "##There are three datasets we are using for this project. The twitter-archive-enhanced csv dataset, image prediction and counts of retweets and favorites of tweet_id from twitter API."
      ],
      "metadata": {
        "id": "hbnbT6_YdoXF"
      }
    },
    {
      "cell_type": "code",
      "source": [
        "dog_archive = pd.read_csv('twitter-archive-enhanced.csv')\n",
        "dog_archive.head(20)"
      ],
      "metadata": {
        "id": "db5DloqtM8Sg",
        "colab": {
          "base_uri": "https://localhost:8080/",
          "height": 1000
        },
        "outputId": "fb326fa2-b5a1-45b1-a76e-16cf774760e4"
      },
      "execution_count": 2,
      "outputs": [
        {
          "output_type": "execute_result",
          "data": {
            "text/plain": [
              "              tweet_id  in_reply_to_status_id  in_reply_to_user_id  \\\n",
              "0   892420643555336193                    NaN                  NaN   \n",
              "1   892177421306343426                    NaN                  NaN   \n",
              "2   891815181378084864                    NaN                  NaN   \n",
              "3   891689557279858688                    NaN                  NaN   \n",
              "4   891327558926688256                    NaN                  NaN   \n",
              "5   891087950875897856                    NaN                  NaN   \n",
              "6   890971913173991426                    NaN                  NaN   \n",
              "7   890729181411237888                    NaN                  NaN   \n",
              "8   890609185150312448                    NaN                  NaN   \n",
              "9   890240255349198849                    NaN                  NaN   \n",
              "10  890006608113172480                    NaN                  NaN   \n",
              "11  889880896479866881                    NaN                  NaN   \n",
              "12  889665388333682689                    NaN                  NaN   \n",
              "13  889638837579907072                    NaN                  NaN   \n",
              "14  889531135344209921                    NaN                  NaN   \n",
              "15  889278841981685760                    NaN                  NaN   \n",
              "16  888917238123831296                    NaN                  NaN   \n",
              "17  888804989199671297                    NaN                  NaN   \n",
              "18  888554962724278272                    NaN                  NaN   \n",
              "19  888202515573088257                    NaN                  NaN   \n",
              "\n",
              "                    timestamp  \\\n",
              "0   2017-08-01 16:23:56 +0000   \n",
              "1   2017-08-01 00:17:27 +0000   \n",
              "2   2017-07-31 00:18:03 +0000   \n",
              "3   2017-07-30 15:58:51 +0000   \n",
              "4   2017-07-29 16:00:24 +0000   \n",
              "5   2017-07-29 00:08:17 +0000   \n",
              "6   2017-07-28 16:27:12 +0000   \n",
              "7   2017-07-28 00:22:40 +0000   \n",
              "8   2017-07-27 16:25:51 +0000   \n",
              "9   2017-07-26 15:59:51 +0000   \n",
              "10  2017-07-26 00:31:25 +0000   \n",
              "11  2017-07-25 16:11:53 +0000   \n",
              "12  2017-07-25 01:55:32 +0000   \n",
              "13  2017-07-25 00:10:02 +0000   \n",
              "14  2017-07-24 17:02:04 +0000   \n",
              "15  2017-07-24 00:19:32 +0000   \n",
              "16  2017-07-23 00:22:39 +0000   \n",
              "17  2017-07-22 16:56:37 +0000   \n",
              "18  2017-07-22 00:23:06 +0000   \n",
              "19  2017-07-21 01:02:36 +0000   \n",
              "\n",
              "                                               source  \\\n",
              "0   <a href=\"http://twitter.com/download/iphone\" r...   \n",
              "1   <a href=\"http://twitter.com/download/iphone\" r...   \n",
              "2   <a href=\"http://twitter.com/download/iphone\" r...   \n",
              "3   <a href=\"http://twitter.com/download/iphone\" r...   \n",
              "4   <a href=\"http://twitter.com/download/iphone\" r...   \n",
              "5   <a href=\"http://twitter.com/download/iphone\" r...   \n",
              "6   <a href=\"http://twitter.com/download/iphone\" r...   \n",
              "7   <a href=\"http://twitter.com/download/iphone\" r...   \n",
              "8   <a href=\"http://twitter.com/download/iphone\" r...   \n",
              "9   <a href=\"http://twitter.com/download/iphone\" r...   \n",
              "10  <a href=\"http://twitter.com/download/iphone\" r...   \n",
              "11  <a href=\"http://twitter.com/download/iphone\" r...   \n",
              "12  <a href=\"http://twitter.com/download/iphone\" r...   \n",
              "13  <a href=\"http://twitter.com/download/iphone\" r...   \n",
              "14  <a href=\"http://twitter.com/download/iphone\" r...   \n",
              "15  <a href=\"http://twitter.com/download/iphone\" r...   \n",
              "16  <a href=\"http://twitter.com/download/iphone\" r...   \n",
              "17  <a href=\"http://twitter.com/download/iphone\" r...   \n",
              "18  <a href=\"http://twitter.com/download/iphone\" r...   \n",
              "19  <a href=\"http://twitter.com/download/iphone\" r...   \n",
              "\n",
              "                                                 text  retweeted_status_id  \\\n",
              "0   This is Phineas. He's a mystical boy. Only eve...                  NaN   \n",
              "1   This is Tilly. She's just checking pup on you....                  NaN   \n",
              "2   This is Archie. He is a rare Norwegian Pouncin...                  NaN   \n",
              "3   This is Darla. She commenced a snooze mid meal...                  NaN   \n",
              "4   This is Franklin. He would like you to stop ca...                  NaN   \n",
              "5   Here we have a majestic great white breaching ...                  NaN   \n",
              "6   Meet Jax. He enjoys ice cream so much he gets ...                  NaN   \n",
              "7   When you watch your owner call another dog a g...                  NaN   \n",
              "8   This is Zoey. She doesn't want to be one of th...                  NaN   \n",
              "9   This is Cassie. She is a college pup. Studying...                  NaN   \n",
              "10  This is Koda. He is a South Australian decksha...                  NaN   \n",
              "11  This is Bruno. He is a service shark. Only get...                  NaN   \n",
              "12  Here's a puppo that seems to be on the fence a...                  NaN   \n",
              "13  This is Ted. He does his best. Sometimes that'...                  NaN   \n",
              "14  This is Stuart. He's sporting his favorite fan...                  NaN   \n",
              "15  This is Oliver. You're witnessing one of his m...                  NaN   \n",
              "16  This is Jim. He found a fren. Taught him how t...                  NaN   \n",
              "17  This is Zeke. He has a new stick. Very proud o...                  NaN   \n",
              "18  This is Ralphus. He's powering up. Attempting ...                  NaN   \n",
              "19  RT @dog_rates: This is Canela. She attempted s...         8.874740e+17   \n",
              "\n",
              "    retweeted_status_user_id retweeted_status_timestamp  \\\n",
              "0                        NaN                        NaN   \n",
              "1                        NaN                        NaN   \n",
              "2                        NaN                        NaN   \n",
              "3                        NaN                        NaN   \n",
              "4                        NaN                        NaN   \n",
              "5                        NaN                        NaN   \n",
              "6                        NaN                        NaN   \n",
              "7                        NaN                        NaN   \n",
              "8                        NaN                        NaN   \n",
              "9                        NaN                        NaN   \n",
              "10                       NaN                        NaN   \n",
              "11                       NaN                        NaN   \n",
              "12                       NaN                        NaN   \n",
              "13                       NaN                        NaN   \n",
              "14                       NaN                        NaN   \n",
              "15                       NaN                        NaN   \n",
              "16                       NaN                        NaN   \n",
              "17                       NaN                        NaN   \n",
              "18                       NaN                        NaN   \n",
              "19              4.196984e+09  2017-07-19 00:47:34 +0000   \n",
              "\n",
              "                                        expanded_urls  rating_numerator  \\\n",
              "0   https://twitter.com/dog_rates/status/892420643...                13   \n",
              "1   https://twitter.com/dog_rates/status/892177421...                13   \n",
              "2   https://twitter.com/dog_rates/status/891815181...                12   \n",
              "3   https://twitter.com/dog_rates/status/891689557...                13   \n",
              "4   https://twitter.com/dog_rates/status/891327558...                12   \n",
              "5   https://twitter.com/dog_rates/status/891087950...                13   \n",
              "6   https://gofundme.com/ydvmve-surgery-for-jax,ht...                13   \n",
              "7   https://twitter.com/dog_rates/status/890729181...                13   \n",
              "8   https://twitter.com/dog_rates/status/890609185...                13   \n",
              "9   https://twitter.com/dog_rates/status/890240255...                14   \n",
              "10  https://twitter.com/dog_rates/status/890006608...                13   \n",
              "11  https://twitter.com/dog_rates/status/889880896...                13   \n",
              "12  https://twitter.com/dog_rates/status/889665388...                13   \n",
              "13  https://twitter.com/dog_rates/status/889638837...                12   \n",
              "14  https://twitter.com/dog_rates/status/889531135...                13   \n",
              "15  https://twitter.com/dog_rates/status/889278841...                13   \n",
              "16  https://twitter.com/dog_rates/status/888917238...                12   \n",
              "17  https://twitter.com/dog_rates/status/888804989...                13   \n",
              "18  https://twitter.com/dog_rates/status/888554962...                13   \n",
              "19  https://twitter.com/dog_rates/status/887473957...                13   \n",
              "\n",
              "    rating_denominator      name  doggo floofer pupper  puppo  \n",
              "0                   10   Phineas   None    None   None   None  \n",
              "1                   10     Tilly   None    None   None   None  \n",
              "2                   10    Archie   None    None   None   None  \n",
              "3                   10     Darla   None    None   None   None  \n",
              "4                   10  Franklin   None    None   None   None  \n",
              "5                   10      None   None    None   None   None  \n",
              "6                   10       Jax   None    None   None   None  \n",
              "7                   10      None   None    None   None   None  \n",
              "8                   10      Zoey   None    None   None   None  \n",
              "9                   10    Cassie  doggo    None   None   None  \n",
              "10                  10      Koda   None    None   None   None  \n",
              "11                  10     Bruno   None    None   None   None  \n",
              "12                  10      None   None    None   None  puppo  \n",
              "13                  10       Ted   None    None   None   None  \n",
              "14                  10    Stuart   None    None   None  puppo  \n",
              "15                  10    Oliver   None    None   None   None  \n",
              "16                  10       Jim   None    None   None   None  \n",
              "17                  10      Zeke   None    None   None   None  \n",
              "18                  10   Ralphus   None    None   None   None  \n",
              "19                  10    Canela   None    None   None   None  "
            ],
            "text/html": [
              "\n",
              "  <div id=\"df-43608589-33bc-46cd-804f-5f44d9a497a9\">\n",
              "    <div class=\"colab-df-container\">\n",
              "      <div>\n",
              "<style scoped>\n",
              "    .dataframe tbody tr th:only-of-type {\n",
              "        vertical-align: middle;\n",
              "    }\n",
              "\n",
              "    .dataframe tbody tr th {\n",
              "        vertical-align: top;\n",
              "    }\n",
              "\n",
              "    .dataframe thead th {\n",
              "        text-align: right;\n",
              "    }\n",
              "</style>\n",
              "<table border=\"1\" class=\"dataframe\">\n",
              "  <thead>\n",
              "    <tr style=\"text-align: right;\">\n",
              "      <th></th>\n",
              "      <th>tweet_id</th>\n",
              "      <th>in_reply_to_status_id</th>\n",
              "      <th>in_reply_to_user_id</th>\n",
              "      <th>timestamp</th>\n",
              "      <th>source</th>\n",
              "      <th>text</th>\n",
              "      <th>retweeted_status_id</th>\n",
              "      <th>retweeted_status_user_id</th>\n",
              "      <th>retweeted_status_timestamp</th>\n",
              "      <th>expanded_urls</th>\n",
              "      <th>rating_numerator</th>\n",
              "      <th>rating_denominator</th>\n",
              "      <th>name</th>\n",
              "      <th>doggo</th>\n",
              "      <th>floofer</th>\n",
              "      <th>pupper</th>\n",
              "      <th>puppo</th>\n",
              "    </tr>\n",
              "  </thead>\n",
              "  <tbody>\n",
              "    <tr>\n",
              "      <th>0</th>\n",
              "      <td>892420643555336193</td>\n",
              "      <td>NaN</td>\n",
              "      <td>NaN</td>\n",
              "      <td>2017-08-01 16:23:56 +0000</td>\n",
              "      <td>&lt;a href=\"http://twitter.com/download/iphone\" r...</td>\n",
              "      <td>This is Phineas. He's a mystical boy. Only eve...</td>\n",
              "      <td>NaN</td>\n",
              "      <td>NaN</td>\n",
              "      <td>NaN</td>\n",
              "      <td>https://twitter.com/dog_rates/status/892420643...</td>\n",
              "      <td>13</td>\n",
              "      <td>10</td>\n",
              "      <td>Phineas</td>\n",
              "      <td>None</td>\n",
              "      <td>None</td>\n",
              "      <td>None</td>\n",
              "      <td>None</td>\n",
              "    </tr>\n",
              "    <tr>\n",
              "      <th>1</th>\n",
              "      <td>892177421306343426</td>\n",
              "      <td>NaN</td>\n",
              "      <td>NaN</td>\n",
              "      <td>2017-08-01 00:17:27 +0000</td>\n",
              "      <td>&lt;a href=\"http://twitter.com/download/iphone\" r...</td>\n",
              "      <td>This is Tilly. She's just checking pup on you....</td>\n",
              "      <td>NaN</td>\n",
              "      <td>NaN</td>\n",
              "      <td>NaN</td>\n",
              "      <td>https://twitter.com/dog_rates/status/892177421...</td>\n",
              "      <td>13</td>\n",
              "      <td>10</td>\n",
              "      <td>Tilly</td>\n",
              "      <td>None</td>\n",
              "      <td>None</td>\n",
              "      <td>None</td>\n",
              "      <td>None</td>\n",
              "    </tr>\n",
              "    <tr>\n",
              "      <th>2</th>\n",
              "      <td>891815181378084864</td>\n",
              "      <td>NaN</td>\n",
              "      <td>NaN</td>\n",
              "      <td>2017-07-31 00:18:03 +0000</td>\n",
              "      <td>&lt;a href=\"http://twitter.com/download/iphone\" r...</td>\n",
              "      <td>This is Archie. He is a rare Norwegian Pouncin...</td>\n",
              "      <td>NaN</td>\n",
              "      <td>NaN</td>\n",
              "      <td>NaN</td>\n",
              "      <td>https://twitter.com/dog_rates/status/891815181...</td>\n",
              "      <td>12</td>\n",
              "      <td>10</td>\n",
              "      <td>Archie</td>\n",
              "      <td>None</td>\n",
              "      <td>None</td>\n",
              "      <td>None</td>\n",
              "      <td>None</td>\n",
              "    </tr>\n",
              "    <tr>\n",
              "      <th>3</th>\n",
              "      <td>891689557279858688</td>\n",
              "      <td>NaN</td>\n",
              "      <td>NaN</td>\n",
              "      <td>2017-07-30 15:58:51 +0000</td>\n",
              "      <td>&lt;a href=\"http://twitter.com/download/iphone\" r...</td>\n",
              "      <td>This is Darla. She commenced a snooze mid meal...</td>\n",
              "      <td>NaN</td>\n",
              "      <td>NaN</td>\n",
              "      <td>NaN</td>\n",
              "      <td>https://twitter.com/dog_rates/status/891689557...</td>\n",
              "      <td>13</td>\n",
              "      <td>10</td>\n",
              "      <td>Darla</td>\n",
              "      <td>None</td>\n",
              "      <td>None</td>\n",
              "      <td>None</td>\n",
              "      <td>None</td>\n",
              "    </tr>\n",
              "    <tr>\n",
              "      <th>4</th>\n",
              "      <td>891327558926688256</td>\n",
              "      <td>NaN</td>\n",
              "      <td>NaN</td>\n",
              "      <td>2017-07-29 16:00:24 +0000</td>\n",
              "      <td>&lt;a href=\"http://twitter.com/download/iphone\" r...</td>\n",
              "      <td>This is Franklin. He would like you to stop ca...</td>\n",
              "      <td>NaN</td>\n",
              "      <td>NaN</td>\n",
              "      <td>NaN</td>\n",
              "      <td>https://twitter.com/dog_rates/status/891327558...</td>\n",
              "      <td>12</td>\n",
              "      <td>10</td>\n",
              "      <td>Franklin</td>\n",
              "      <td>None</td>\n",
              "      <td>None</td>\n",
              "      <td>None</td>\n",
              "      <td>None</td>\n",
              "    </tr>\n",
              "    <tr>\n",
              "      <th>5</th>\n",
              "      <td>891087950875897856</td>\n",
              "      <td>NaN</td>\n",
              "      <td>NaN</td>\n",
              "      <td>2017-07-29 00:08:17 +0000</td>\n",
              "      <td>&lt;a href=\"http://twitter.com/download/iphone\" r...</td>\n",
              "      <td>Here we have a majestic great white breaching ...</td>\n",
              "      <td>NaN</td>\n",
              "      <td>NaN</td>\n",
              "      <td>NaN</td>\n",
              "      <td>https://twitter.com/dog_rates/status/891087950...</td>\n",
              "      <td>13</td>\n",
              "      <td>10</td>\n",
              "      <td>None</td>\n",
              "      <td>None</td>\n",
              "      <td>None</td>\n",
              "      <td>None</td>\n",
              "      <td>None</td>\n",
              "    </tr>\n",
              "    <tr>\n",
              "      <th>6</th>\n",
              "      <td>890971913173991426</td>\n",
              "      <td>NaN</td>\n",
              "      <td>NaN</td>\n",
              "      <td>2017-07-28 16:27:12 +0000</td>\n",
              "      <td>&lt;a href=\"http://twitter.com/download/iphone\" r...</td>\n",
              "      <td>Meet Jax. He enjoys ice cream so much he gets ...</td>\n",
              "      <td>NaN</td>\n",
              "      <td>NaN</td>\n",
              "      <td>NaN</td>\n",
              "      <td>https://gofundme.com/ydvmve-surgery-for-jax,ht...</td>\n",
              "      <td>13</td>\n",
              "      <td>10</td>\n",
              "      <td>Jax</td>\n",
              "      <td>None</td>\n",
              "      <td>None</td>\n",
              "      <td>None</td>\n",
              "      <td>None</td>\n",
              "    </tr>\n",
              "    <tr>\n",
              "      <th>7</th>\n",
              "      <td>890729181411237888</td>\n",
              "      <td>NaN</td>\n",
              "      <td>NaN</td>\n",
              "      <td>2017-07-28 00:22:40 +0000</td>\n",
              "      <td>&lt;a href=\"http://twitter.com/download/iphone\" r...</td>\n",
              "      <td>When you watch your owner call another dog a g...</td>\n",
              "      <td>NaN</td>\n",
              "      <td>NaN</td>\n",
              "      <td>NaN</td>\n",
              "      <td>https://twitter.com/dog_rates/status/890729181...</td>\n",
              "      <td>13</td>\n",
              "      <td>10</td>\n",
              "      <td>None</td>\n",
              "      <td>None</td>\n",
              "      <td>None</td>\n",
              "      <td>None</td>\n",
              "      <td>None</td>\n",
              "    </tr>\n",
              "    <tr>\n",
              "      <th>8</th>\n",
              "      <td>890609185150312448</td>\n",
              "      <td>NaN</td>\n",
              "      <td>NaN</td>\n",
              "      <td>2017-07-27 16:25:51 +0000</td>\n",
              "      <td>&lt;a href=\"http://twitter.com/download/iphone\" r...</td>\n",
              "      <td>This is Zoey. She doesn't want to be one of th...</td>\n",
              "      <td>NaN</td>\n",
              "      <td>NaN</td>\n",
              "      <td>NaN</td>\n",
              "      <td>https://twitter.com/dog_rates/status/890609185...</td>\n",
              "      <td>13</td>\n",
              "      <td>10</td>\n",
              "      <td>Zoey</td>\n",
              "      <td>None</td>\n",
              "      <td>None</td>\n",
              "      <td>None</td>\n",
              "      <td>None</td>\n",
              "    </tr>\n",
              "    <tr>\n",
              "      <th>9</th>\n",
              "      <td>890240255349198849</td>\n",
              "      <td>NaN</td>\n",
              "      <td>NaN</td>\n",
              "      <td>2017-07-26 15:59:51 +0000</td>\n",
              "      <td>&lt;a href=\"http://twitter.com/download/iphone\" r...</td>\n",
              "      <td>This is Cassie. She is a college pup. Studying...</td>\n",
              "      <td>NaN</td>\n",
              "      <td>NaN</td>\n",
              "      <td>NaN</td>\n",
              "      <td>https://twitter.com/dog_rates/status/890240255...</td>\n",
              "      <td>14</td>\n",
              "      <td>10</td>\n",
              "      <td>Cassie</td>\n",
              "      <td>doggo</td>\n",
              "      <td>None</td>\n",
              "      <td>None</td>\n",
              "      <td>None</td>\n",
              "    </tr>\n",
              "    <tr>\n",
              "      <th>10</th>\n",
              "      <td>890006608113172480</td>\n",
              "      <td>NaN</td>\n",
              "      <td>NaN</td>\n",
              "      <td>2017-07-26 00:31:25 +0000</td>\n",
              "      <td>&lt;a href=\"http://twitter.com/download/iphone\" r...</td>\n",
              "      <td>This is Koda. He is a South Australian decksha...</td>\n",
              "      <td>NaN</td>\n",
              "      <td>NaN</td>\n",
              "      <td>NaN</td>\n",
              "      <td>https://twitter.com/dog_rates/status/890006608...</td>\n",
              "      <td>13</td>\n",
              "      <td>10</td>\n",
              "      <td>Koda</td>\n",
              "      <td>None</td>\n",
              "      <td>None</td>\n",
              "      <td>None</td>\n",
              "      <td>None</td>\n",
              "    </tr>\n",
              "    <tr>\n",
              "      <th>11</th>\n",
              "      <td>889880896479866881</td>\n",
              "      <td>NaN</td>\n",
              "      <td>NaN</td>\n",
              "      <td>2017-07-25 16:11:53 +0000</td>\n",
              "      <td>&lt;a href=\"http://twitter.com/download/iphone\" r...</td>\n",
              "      <td>This is Bruno. He is a service shark. Only get...</td>\n",
              "      <td>NaN</td>\n",
              "      <td>NaN</td>\n",
              "      <td>NaN</td>\n",
              "      <td>https://twitter.com/dog_rates/status/889880896...</td>\n",
              "      <td>13</td>\n",
              "      <td>10</td>\n",
              "      <td>Bruno</td>\n",
              "      <td>None</td>\n",
              "      <td>None</td>\n",
              "      <td>None</td>\n",
              "      <td>None</td>\n",
              "    </tr>\n",
              "    <tr>\n",
              "      <th>12</th>\n",
              "      <td>889665388333682689</td>\n",
              "      <td>NaN</td>\n",
              "      <td>NaN</td>\n",
              "      <td>2017-07-25 01:55:32 +0000</td>\n",
              "      <td>&lt;a href=\"http://twitter.com/download/iphone\" r...</td>\n",
              "      <td>Here's a puppo that seems to be on the fence a...</td>\n",
              "      <td>NaN</td>\n",
              "      <td>NaN</td>\n",
              "      <td>NaN</td>\n",
              "      <td>https://twitter.com/dog_rates/status/889665388...</td>\n",
              "      <td>13</td>\n",
              "      <td>10</td>\n",
              "      <td>None</td>\n",
              "      <td>None</td>\n",
              "      <td>None</td>\n",
              "      <td>None</td>\n",
              "      <td>puppo</td>\n",
              "    </tr>\n",
              "    <tr>\n",
              "      <th>13</th>\n",
              "      <td>889638837579907072</td>\n",
              "      <td>NaN</td>\n",
              "      <td>NaN</td>\n",
              "      <td>2017-07-25 00:10:02 +0000</td>\n",
              "      <td>&lt;a href=\"http://twitter.com/download/iphone\" r...</td>\n",
              "      <td>This is Ted. He does his best. Sometimes that'...</td>\n",
              "      <td>NaN</td>\n",
              "      <td>NaN</td>\n",
              "      <td>NaN</td>\n",
              "      <td>https://twitter.com/dog_rates/status/889638837...</td>\n",
              "      <td>12</td>\n",
              "      <td>10</td>\n",
              "      <td>Ted</td>\n",
              "      <td>None</td>\n",
              "      <td>None</td>\n",
              "      <td>None</td>\n",
              "      <td>None</td>\n",
              "    </tr>\n",
              "    <tr>\n",
              "      <th>14</th>\n",
              "      <td>889531135344209921</td>\n",
              "      <td>NaN</td>\n",
              "      <td>NaN</td>\n",
              "      <td>2017-07-24 17:02:04 +0000</td>\n",
              "      <td>&lt;a href=\"http://twitter.com/download/iphone\" r...</td>\n",
              "      <td>This is Stuart. He's sporting his favorite fan...</td>\n",
              "      <td>NaN</td>\n",
              "      <td>NaN</td>\n",
              "      <td>NaN</td>\n",
              "      <td>https://twitter.com/dog_rates/status/889531135...</td>\n",
              "      <td>13</td>\n",
              "      <td>10</td>\n",
              "      <td>Stuart</td>\n",
              "      <td>None</td>\n",
              "      <td>None</td>\n",
              "      <td>None</td>\n",
              "      <td>puppo</td>\n",
              "    </tr>\n",
              "    <tr>\n",
              "      <th>15</th>\n",
              "      <td>889278841981685760</td>\n",
              "      <td>NaN</td>\n",
              "      <td>NaN</td>\n",
              "      <td>2017-07-24 00:19:32 +0000</td>\n",
              "      <td>&lt;a href=\"http://twitter.com/download/iphone\" r...</td>\n",
              "      <td>This is Oliver. You're witnessing one of his m...</td>\n",
              "      <td>NaN</td>\n",
              "      <td>NaN</td>\n",
              "      <td>NaN</td>\n",
              "      <td>https://twitter.com/dog_rates/status/889278841...</td>\n",
              "      <td>13</td>\n",
              "      <td>10</td>\n",
              "      <td>Oliver</td>\n",
              "      <td>None</td>\n",
              "      <td>None</td>\n",
              "      <td>None</td>\n",
              "      <td>None</td>\n",
              "    </tr>\n",
              "    <tr>\n",
              "      <th>16</th>\n",
              "      <td>888917238123831296</td>\n",
              "      <td>NaN</td>\n",
              "      <td>NaN</td>\n",
              "      <td>2017-07-23 00:22:39 +0000</td>\n",
              "      <td>&lt;a href=\"http://twitter.com/download/iphone\" r...</td>\n",
              "      <td>This is Jim. He found a fren. Taught him how t...</td>\n",
              "      <td>NaN</td>\n",
              "      <td>NaN</td>\n",
              "      <td>NaN</td>\n",
              "      <td>https://twitter.com/dog_rates/status/888917238...</td>\n",
              "      <td>12</td>\n",
              "      <td>10</td>\n",
              "      <td>Jim</td>\n",
              "      <td>None</td>\n",
              "      <td>None</td>\n",
              "      <td>None</td>\n",
              "      <td>None</td>\n",
              "    </tr>\n",
              "    <tr>\n",
              "      <th>17</th>\n",
              "      <td>888804989199671297</td>\n",
              "      <td>NaN</td>\n",
              "      <td>NaN</td>\n",
              "      <td>2017-07-22 16:56:37 +0000</td>\n",
              "      <td>&lt;a href=\"http://twitter.com/download/iphone\" r...</td>\n",
              "      <td>This is Zeke. He has a new stick. Very proud o...</td>\n",
              "      <td>NaN</td>\n",
              "      <td>NaN</td>\n",
              "      <td>NaN</td>\n",
              "      <td>https://twitter.com/dog_rates/status/888804989...</td>\n",
              "      <td>13</td>\n",
              "      <td>10</td>\n",
              "      <td>Zeke</td>\n",
              "      <td>None</td>\n",
              "      <td>None</td>\n",
              "      <td>None</td>\n",
              "      <td>None</td>\n",
              "    </tr>\n",
              "    <tr>\n",
              "      <th>18</th>\n",
              "      <td>888554962724278272</td>\n",
              "      <td>NaN</td>\n",
              "      <td>NaN</td>\n",
              "      <td>2017-07-22 00:23:06 +0000</td>\n",
              "      <td>&lt;a href=\"http://twitter.com/download/iphone\" r...</td>\n",
              "      <td>This is Ralphus. He's powering up. Attempting ...</td>\n",
              "      <td>NaN</td>\n",
              "      <td>NaN</td>\n",
              "      <td>NaN</td>\n",
              "      <td>https://twitter.com/dog_rates/status/888554962...</td>\n",
              "      <td>13</td>\n",
              "      <td>10</td>\n",
              "      <td>Ralphus</td>\n",
              "      <td>None</td>\n",
              "      <td>None</td>\n",
              "      <td>None</td>\n",
              "      <td>None</td>\n",
              "    </tr>\n",
              "    <tr>\n",
              "      <th>19</th>\n",
              "      <td>888202515573088257</td>\n",
              "      <td>NaN</td>\n",
              "      <td>NaN</td>\n",
              "      <td>2017-07-21 01:02:36 +0000</td>\n",
              "      <td>&lt;a href=\"http://twitter.com/download/iphone\" r...</td>\n",
              "      <td>RT @dog_rates: This is Canela. She attempted s...</td>\n",
              "      <td>8.874740e+17</td>\n",
              "      <td>4.196984e+09</td>\n",
              "      <td>2017-07-19 00:47:34 +0000</td>\n",
              "      <td>https://twitter.com/dog_rates/status/887473957...</td>\n",
              "      <td>13</td>\n",
              "      <td>10</td>\n",
              "      <td>Canela</td>\n",
              "      <td>None</td>\n",
              "      <td>None</td>\n",
              "      <td>None</td>\n",
              "      <td>None</td>\n",
              "    </tr>\n",
              "  </tbody>\n",
              "</table>\n",
              "</div>\n",
              "      <button class=\"colab-df-convert\" onclick=\"convertToInteractive('df-43608589-33bc-46cd-804f-5f44d9a497a9')\"\n",
              "              title=\"Convert this dataframe to an interactive table.\"\n",
              "              style=\"display:none;\">\n",
              "        \n",
              "  <svg xmlns=\"http://www.w3.org/2000/svg\" height=\"24px\"viewBox=\"0 0 24 24\"\n",
              "       width=\"24px\">\n",
              "    <path d=\"M0 0h24v24H0V0z\" fill=\"none\"/>\n",
              "    <path d=\"M18.56 5.44l.94 2.06.94-2.06 2.06-.94-2.06-.94-.94-2.06-.94 2.06-2.06.94zm-11 1L8.5 8.5l.94-2.06 2.06-.94-2.06-.94L8.5 2.5l-.94 2.06-2.06.94zm10 10l.94 2.06.94-2.06 2.06-.94-2.06-.94-.94-2.06-.94 2.06-2.06.94z\"/><path d=\"M17.41 7.96l-1.37-1.37c-.4-.4-.92-.59-1.43-.59-.52 0-1.04.2-1.43.59L10.3 9.45l-7.72 7.72c-.78.78-.78 2.05 0 2.83L4 21.41c.39.39.9.59 1.41.59.51 0 1.02-.2 1.41-.59l7.78-7.78 2.81-2.81c.8-.78.8-2.07 0-2.86zM5.41 20L4 18.59l7.72-7.72 1.47 1.35L5.41 20z\"/>\n",
              "  </svg>\n",
              "      </button>\n",
              "      \n",
              "  <style>\n",
              "    .colab-df-container {\n",
              "      display:flex;\n",
              "      flex-wrap:wrap;\n",
              "      gap: 12px;\n",
              "    }\n",
              "\n",
              "    .colab-df-convert {\n",
              "      background-color: #E8F0FE;\n",
              "      border: none;\n",
              "      border-radius: 50%;\n",
              "      cursor: pointer;\n",
              "      display: none;\n",
              "      fill: #1967D2;\n",
              "      height: 32px;\n",
              "      padding: 0 0 0 0;\n",
              "      width: 32px;\n",
              "    }\n",
              "\n",
              "    .colab-df-convert:hover {\n",
              "      background-color: #E2EBFA;\n",
              "      box-shadow: 0px 1px 2px rgba(60, 64, 67, 0.3), 0px 1px 3px 1px rgba(60, 64, 67, 0.15);\n",
              "      fill: #174EA6;\n",
              "    }\n",
              "\n",
              "    [theme=dark] .colab-df-convert {\n",
              "      background-color: #3B4455;\n",
              "      fill: #D2E3FC;\n",
              "    }\n",
              "\n",
              "    [theme=dark] .colab-df-convert:hover {\n",
              "      background-color: #434B5C;\n",
              "      box-shadow: 0px 1px 3px 1px rgba(0, 0, 0, 0.15);\n",
              "      filter: drop-shadow(0px 1px 2px rgba(0, 0, 0, 0.3));\n",
              "      fill: #FFFFFF;\n",
              "    }\n",
              "  </style>\n",
              "\n",
              "      <script>\n",
              "        const buttonEl =\n",
              "          document.querySelector('#df-43608589-33bc-46cd-804f-5f44d9a497a9 button.colab-df-convert');\n",
              "        buttonEl.style.display =\n",
              "          google.colab.kernel.accessAllowed ? 'block' : 'none';\n",
              "\n",
              "        async function convertToInteractive(key) {\n",
              "          const element = document.querySelector('#df-43608589-33bc-46cd-804f-5f44d9a497a9');\n",
              "          const dataTable =\n",
              "            await google.colab.kernel.invokeFunction('convertToInteractive',\n",
              "                                                     [key], {});\n",
              "          if (!dataTable) return;\n",
              "\n",
              "          const docLinkHtml = 'Like what you see? Visit the ' +\n",
              "            '<a target=\"_blank\" href=https://colab.research.google.com/notebooks/data_table.ipynb>data table notebook</a>'\n",
              "            + ' to learn more about interactive tables.';\n",
              "          element.innerHTML = '';\n",
              "          dataTable['output_type'] = 'display_data';\n",
              "          await google.colab.output.renderOutput(dataTable, element);\n",
              "          const docLink = document.createElement('div');\n",
              "          docLink.innerHTML = docLinkHtml;\n",
              "          element.appendChild(docLink);\n",
              "        }\n",
              "      </script>\n",
              "    </div>\n",
              "  </div>\n",
              "  "
            ]
          },
          "metadata": {},
          "execution_count": 2
        }
      ]
    },
    {
      "cell_type": "code",
      "source": [
        "dog_images = pd.read_csv('image-predictions.tsv', sep = '\\t')\n",
        "dog_images.head()"
      ],
      "metadata": {
        "colab": {
          "base_uri": "https://localhost:8080/",
          "height": 270
        },
        "id": "pNgxUodPO96m",
        "outputId": "98de2202-7049-4280-8e37-fa97dd08a829"
      },
      "execution_count": 3,
      "outputs": [
        {
          "output_type": "execute_result",
          "data": {
            "text/plain": [
              "             tweet_id                                          jpg_url  \\\n",
              "0  666020888022790149  https://pbs.twimg.com/media/CT4udn0WwAA0aMy.jpg   \n",
              "1  666029285002620928  https://pbs.twimg.com/media/CT42GRgUYAA5iDo.jpg   \n",
              "2  666033412701032449  https://pbs.twimg.com/media/CT4521TWwAEvMyu.jpg   \n",
              "3  666044226329800704  https://pbs.twimg.com/media/CT5Dr8HUEAA-lEu.jpg   \n",
              "4  666049248165822465  https://pbs.twimg.com/media/CT5IQmsXIAAKY4A.jpg   \n",
              "\n",
              "   img_num                      p1   p1_conf  p1_dog                  p2  \\\n",
              "0        1  Welsh_springer_spaniel  0.465074    True              collie   \n",
              "1        1                 redbone  0.506826    True  miniature_pinscher   \n",
              "2        1         German_shepherd  0.596461    True            malinois   \n",
              "3        1     Rhodesian_ridgeback  0.408143    True             redbone   \n",
              "4        1      miniature_pinscher  0.560311    True          Rottweiler   \n",
              "\n",
              "    p2_conf  p2_dog                   p3   p3_conf  p3_dog  \n",
              "0  0.156665    True    Shetland_sheepdog  0.061428    True  \n",
              "1  0.074192    True  Rhodesian_ridgeback  0.072010    True  \n",
              "2  0.138584    True           bloodhound  0.116197    True  \n",
              "3  0.360687    True   miniature_pinscher  0.222752    True  \n",
              "4  0.243682    True             Doberman  0.154629    True  "
            ],
            "text/html": [
              "\n",
              "  <div id=\"df-c75b8378-dfe2-4505-97eb-d9079343160e\">\n",
              "    <div class=\"colab-df-container\">\n",
              "      <div>\n",
              "<style scoped>\n",
              "    .dataframe tbody tr th:only-of-type {\n",
              "        vertical-align: middle;\n",
              "    }\n",
              "\n",
              "    .dataframe tbody tr th {\n",
              "        vertical-align: top;\n",
              "    }\n",
              "\n",
              "    .dataframe thead th {\n",
              "        text-align: right;\n",
              "    }\n",
              "</style>\n",
              "<table border=\"1\" class=\"dataframe\">\n",
              "  <thead>\n",
              "    <tr style=\"text-align: right;\">\n",
              "      <th></th>\n",
              "      <th>tweet_id</th>\n",
              "      <th>jpg_url</th>\n",
              "      <th>img_num</th>\n",
              "      <th>p1</th>\n",
              "      <th>p1_conf</th>\n",
              "      <th>p1_dog</th>\n",
              "      <th>p2</th>\n",
              "      <th>p2_conf</th>\n",
              "      <th>p2_dog</th>\n",
              "      <th>p3</th>\n",
              "      <th>p3_conf</th>\n",
              "      <th>p3_dog</th>\n",
              "    </tr>\n",
              "  </thead>\n",
              "  <tbody>\n",
              "    <tr>\n",
              "      <th>0</th>\n",
              "      <td>666020888022790149</td>\n",
              "      <td>https://pbs.twimg.com/media/CT4udn0WwAA0aMy.jpg</td>\n",
              "      <td>1</td>\n",
              "      <td>Welsh_springer_spaniel</td>\n",
              "      <td>0.465074</td>\n",
              "      <td>True</td>\n",
              "      <td>collie</td>\n",
              "      <td>0.156665</td>\n",
              "      <td>True</td>\n",
              "      <td>Shetland_sheepdog</td>\n",
              "      <td>0.061428</td>\n",
              "      <td>True</td>\n",
              "    </tr>\n",
              "    <tr>\n",
              "      <th>1</th>\n",
              "      <td>666029285002620928</td>\n",
              "      <td>https://pbs.twimg.com/media/CT42GRgUYAA5iDo.jpg</td>\n",
              "      <td>1</td>\n",
              "      <td>redbone</td>\n",
              "      <td>0.506826</td>\n",
              "      <td>True</td>\n",
              "      <td>miniature_pinscher</td>\n",
              "      <td>0.074192</td>\n",
              "      <td>True</td>\n",
              "      <td>Rhodesian_ridgeback</td>\n",
              "      <td>0.072010</td>\n",
              "      <td>True</td>\n",
              "    </tr>\n",
              "    <tr>\n",
              "      <th>2</th>\n",
              "      <td>666033412701032449</td>\n",
              "      <td>https://pbs.twimg.com/media/CT4521TWwAEvMyu.jpg</td>\n",
              "      <td>1</td>\n",
              "      <td>German_shepherd</td>\n",
              "      <td>0.596461</td>\n",
              "      <td>True</td>\n",
              "      <td>malinois</td>\n",
              "      <td>0.138584</td>\n",
              "      <td>True</td>\n",
              "      <td>bloodhound</td>\n",
              "      <td>0.116197</td>\n",
              "      <td>True</td>\n",
              "    </tr>\n",
              "    <tr>\n",
              "      <th>3</th>\n",
              "      <td>666044226329800704</td>\n",
              "      <td>https://pbs.twimg.com/media/CT5Dr8HUEAA-lEu.jpg</td>\n",
              "      <td>1</td>\n",
              "      <td>Rhodesian_ridgeback</td>\n",
              "      <td>0.408143</td>\n",
              "      <td>True</td>\n",
              "      <td>redbone</td>\n",
              "      <td>0.360687</td>\n",
              "      <td>True</td>\n",
              "      <td>miniature_pinscher</td>\n",
              "      <td>0.222752</td>\n",
              "      <td>True</td>\n",
              "    </tr>\n",
              "    <tr>\n",
              "      <th>4</th>\n",
              "      <td>666049248165822465</td>\n",
              "      <td>https://pbs.twimg.com/media/CT5IQmsXIAAKY4A.jpg</td>\n",
              "      <td>1</td>\n",
              "      <td>miniature_pinscher</td>\n",
              "      <td>0.560311</td>\n",
              "      <td>True</td>\n",
              "      <td>Rottweiler</td>\n",
              "      <td>0.243682</td>\n",
              "      <td>True</td>\n",
              "      <td>Doberman</td>\n",
              "      <td>0.154629</td>\n",
              "      <td>True</td>\n",
              "    </tr>\n",
              "  </tbody>\n",
              "</table>\n",
              "</div>\n",
              "      <button class=\"colab-df-convert\" onclick=\"convertToInteractive('df-c75b8378-dfe2-4505-97eb-d9079343160e')\"\n",
              "              title=\"Convert this dataframe to an interactive table.\"\n",
              "              style=\"display:none;\">\n",
              "        \n",
              "  <svg xmlns=\"http://www.w3.org/2000/svg\" height=\"24px\"viewBox=\"0 0 24 24\"\n",
              "       width=\"24px\">\n",
              "    <path d=\"M0 0h24v24H0V0z\" fill=\"none\"/>\n",
              "    <path d=\"M18.56 5.44l.94 2.06.94-2.06 2.06-.94-2.06-.94-.94-2.06-.94 2.06-2.06.94zm-11 1L8.5 8.5l.94-2.06 2.06-.94-2.06-.94L8.5 2.5l-.94 2.06-2.06.94zm10 10l.94 2.06.94-2.06 2.06-.94-2.06-.94-.94-2.06-.94 2.06-2.06.94z\"/><path d=\"M17.41 7.96l-1.37-1.37c-.4-.4-.92-.59-1.43-.59-.52 0-1.04.2-1.43.59L10.3 9.45l-7.72 7.72c-.78.78-.78 2.05 0 2.83L4 21.41c.39.39.9.59 1.41.59.51 0 1.02-.2 1.41-.59l7.78-7.78 2.81-2.81c.8-.78.8-2.07 0-2.86zM5.41 20L4 18.59l7.72-7.72 1.47 1.35L5.41 20z\"/>\n",
              "  </svg>\n",
              "      </button>\n",
              "      \n",
              "  <style>\n",
              "    .colab-df-container {\n",
              "      display:flex;\n",
              "      flex-wrap:wrap;\n",
              "      gap: 12px;\n",
              "    }\n",
              "\n",
              "    .colab-df-convert {\n",
              "      background-color: #E8F0FE;\n",
              "      border: none;\n",
              "      border-radius: 50%;\n",
              "      cursor: pointer;\n",
              "      display: none;\n",
              "      fill: #1967D2;\n",
              "      height: 32px;\n",
              "      padding: 0 0 0 0;\n",
              "      width: 32px;\n",
              "    }\n",
              "\n",
              "    .colab-df-convert:hover {\n",
              "      background-color: #E2EBFA;\n",
              "      box-shadow: 0px 1px 2px rgba(60, 64, 67, 0.3), 0px 1px 3px 1px rgba(60, 64, 67, 0.15);\n",
              "      fill: #174EA6;\n",
              "    }\n",
              "\n",
              "    [theme=dark] .colab-df-convert {\n",
              "      background-color: #3B4455;\n",
              "      fill: #D2E3FC;\n",
              "    }\n",
              "\n",
              "    [theme=dark] .colab-df-convert:hover {\n",
              "      background-color: #434B5C;\n",
              "      box-shadow: 0px 1px 3px 1px rgba(0, 0, 0, 0.15);\n",
              "      filter: drop-shadow(0px 1px 2px rgba(0, 0, 0, 0.3));\n",
              "      fill: #FFFFFF;\n",
              "    }\n",
              "  </style>\n",
              "\n",
              "      <script>\n",
              "        const buttonEl =\n",
              "          document.querySelector('#df-c75b8378-dfe2-4505-97eb-d9079343160e button.colab-df-convert');\n",
              "        buttonEl.style.display =\n",
              "          google.colab.kernel.accessAllowed ? 'block' : 'none';\n",
              "\n",
              "        async function convertToInteractive(key) {\n",
              "          const element = document.querySelector('#df-c75b8378-dfe2-4505-97eb-d9079343160e');\n",
              "          const dataTable =\n",
              "            await google.colab.kernel.invokeFunction('convertToInteractive',\n",
              "                                                     [key], {});\n",
              "          if (!dataTable) return;\n",
              "\n",
              "          const docLinkHtml = 'Like what you see? Visit the ' +\n",
              "            '<a target=\"_blank\" href=https://colab.research.google.com/notebooks/data_table.ipynb>data table notebook</a>'\n",
              "            + ' to learn more about interactive tables.';\n",
              "          element.innerHTML = '';\n",
              "          dataTable['output_type'] = 'display_data';\n",
              "          await google.colab.output.renderOutput(dataTable, element);\n",
              "          const docLink = document.createElement('div');\n",
              "          docLink.innerHTML = docLinkHtml;\n",
              "          element.appendChild(docLink);\n",
              "        }\n",
              "      </script>\n",
              "    </div>\n",
              "  </div>\n",
              "  "
            ]
          },
          "metadata": {},
          "execution_count": 3
        }
      ]
    },
    {
      "cell_type": "markdown",
      "source": [
        "##Twitter API"
      ],
      "metadata": {
        "id": "vbAZCSAvPNs-"
      }
    },
    {
      "cell_type": "code",
      "source": [
        "consumer_key = ''\n",
        "consumer_secret = ''\n",
        "access_token = ''\n",
        "access_secret = ''\n",
        "\n",
        "auth = tweepy.OAuthHandler(consumer_key, consumer_secret)\n",
        "auth.set_access_token(access_token, access_secret)\n",
        "\n",
        "api = tweepy.API(auth, parser=tweepy.parsers.JSONParser())"
      ],
      "metadata": {
        "id": "zeQsrXF5PRss"
      },
      "execution_count": 70,
      "outputs": []
    },
    {
      "cell_type": "code",
      "source": [
        "# use Twitter API to collect status data on tweets present in archive\n",
        "tweet_data = []\n",
        "tweet_id_success = []\n",
        "tweet_id_missing = []\n",
        "for tweet_id in dog_archive['tweet_id']:\n",
        "    try:\n",
        "        data = api.get_status(tweet_id, \n",
        "                              tweet_mode='extended',\n",
        "                              wait_on_rate_limit = True,\n",
        "                              wait_on_rate_limit_notify = True)\n",
        "        tweet_data.append(data)\n",
        "        tweet_id_success.append(tweet_id)\n",
        "    except Exception as e:\n",
        "        tweet_id_missing.append(tweet_id)\n",
        "        print(f'{tweet_id}: {e}')"
      ],
      "metadata": {
        "colab": {
          "base_uri": "https://localhost:8080/"
        },
        "id": "zvdjZZKRREJR",
        "outputId": "c1ef9add-6b5c-47c9-bfe7-77fe10cae0d2"
      },
      "execution_count": 71,
      "outputs": [
        {
          "output_type": "stream",
          "name": "stdout",
          "text": [
            "888202515573088257: [{'code': 144, 'message': 'No status found with that ID.'}]\n",
            "873697596434513921: [{'code': 144, 'message': 'No status found with that ID.'}]\n",
            "872668790621863937: [{'code': 144, 'message': 'No status found with that ID.'}]\n",
            "872261713294495745: [{'code': 144, 'message': 'No status found with that ID.'}]\n",
            "869988702071779329: [{'code': 144, 'message': 'No status found with that ID.'}]\n",
            "866816280283807744: [{'code': 144, 'message': 'No status found with that ID.'}]\n",
            "861769973181624320: [{'code': 144, 'message': 'No status found with that ID.'}]\n",
            "856602993587888130: [{'code': 144, 'message': 'No status found with that ID.'}]\n",
            "856330835276025856: [{'code': 144, 'message': 'No status found with that ID.'}]\n",
            "851953902622658560: [{'code': 144, 'message': 'No status found with that ID.'}]\n",
            "851861385021730816: [{'code': 144, 'message': 'No status found with that ID.'}]\n",
            "845459076796616705: [{'code': 144, 'message': 'No status found with that ID.'}]\n",
            "844704788403113984: [{'code': 144, 'message': 'No status found with that ID.'}]\n",
            "842892208864923648: [{'code': 144, 'message': 'No status found with that ID.'}]\n",
            "837366284874571778: [{'code': 144, 'message': 'No status found with that ID.'}]\n",
            "837012587749474308: [{'code': 144, 'message': 'No status found with that ID.'}]\n",
            "829374341691346946: [{'code': 144, 'message': 'No status found with that ID.'}]\n",
            "827228250799742977: [{'code': 144, 'message': 'No status found with that ID.'}]\n",
            "812747805718642688: [{'code': 144, 'message': 'No status found with that ID.'}]\n",
            "802247111496568832: [{'code': 144, 'message': 'No status found with that ID.'}]\n",
            "779123168116150273: [{'code': 144, 'message': 'No status found with that ID.'}]\n",
            "775096608509886464: [{'code': 144, 'message': 'No status found with that ID.'}]\n",
            "771004394259247104: [{'code': 179, 'message': 'Sorry, you are not authorized to see this status.'}]\n",
            "770743923962707968: [{'code': 144, 'message': 'No status found with that ID.'}]\n",
            "766864461642756096: [{'code': 144, 'message': 'No status found with that ID.'}]\n",
            "759923798737051648: [{'code': 144, 'message': 'No status found with that ID.'}]\n",
            "759566828574212096: [{'code': 144, 'message': 'No status found with that ID.'}]\n"
          ]
        },
        {
          "output_type": "stream",
          "name": "stderr",
          "text": [
            "Rate limit reached. Sleeping for: 801\n"
          ]
        },
        {
          "output_type": "stream",
          "name": "stdout",
          "text": [
            "754011816964026368: [{'code': 144, 'message': 'No status found with that ID.'}]\n",
            "680055455951884288: [{'code': 144, 'message': 'No status found with that ID.'}]\n"
          ]
        },
        {
          "output_type": "stream",
          "name": "stderr",
          "text": [
            "Rate limit reached. Sleeping for: 801\n"
          ]
        }
      ]
    },
    {
      "cell_type": "code",
      "source": [
        "# Write tweet data to json file\n",
        "with open('tweet_json.txt', mode = 'w') as file:\n",
        "    json.dump(tweet_data, file)"
      ],
      "metadata": {
        "id": "SGeMvPFXYsXP"
      },
      "execution_count": 72,
      "outputs": []
    },
    {
      "cell_type": "code",
      "source": [
        "# Load the Twitter API data\n",
        "apiData = pd.read_json('tweet_json.txt')\n",
        "apiData['tweet_id'] = apiData['id']\n",
        "apiData = apiData[['tweet_id', 'favorite_count', 'retweet_count']]"
      ],
      "metadata": {
        "id": "ClaSiUXmYyYQ"
      },
      "execution_count": 6,
      "outputs": []
    },
    {
      "cell_type": "code",
      "source": [
        "apiData.head()"
      ],
      "metadata": {
        "colab": {
          "base_uri": "https://localhost:8080/",
          "height": 206
        },
        "id": "Ng29Y6dRZEKZ",
        "outputId": "357c9338-4b19-46c1-b809-2dd5cda8267a"
      },
      "execution_count": 7,
      "outputs": [
        {
          "output_type": "execute_result",
          "data": {
            "text/plain": [
              "             tweet_id  favorite_count  retweet_count\n",
              "0  892420643555336193           33796           7009\n",
              "1  892177421306343426           29318           5301\n",
              "2  891815181378084864           22043           3481\n",
              "3  891689557279858688           36900           7217\n",
              "4  891327558926688256           35275           7760"
            ],
            "text/html": [
              "\n",
              "  <div id=\"df-680faab5-252c-437c-8194-9e2d51c7404a\">\n",
              "    <div class=\"colab-df-container\">\n",
              "      <div>\n",
              "<style scoped>\n",
              "    .dataframe tbody tr th:only-of-type {\n",
              "        vertical-align: middle;\n",
              "    }\n",
              "\n",
              "    .dataframe tbody tr th {\n",
              "        vertical-align: top;\n",
              "    }\n",
              "\n",
              "    .dataframe thead th {\n",
              "        text-align: right;\n",
              "    }\n",
              "</style>\n",
              "<table border=\"1\" class=\"dataframe\">\n",
              "  <thead>\n",
              "    <tr style=\"text-align: right;\">\n",
              "      <th></th>\n",
              "      <th>tweet_id</th>\n",
              "      <th>favorite_count</th>\n",
              "      <th>retweet_count</th>\n",
              "    </tr>\n",
              "  </thead>\n",
              "  <tbody>\n",
              "    <tr>\n",
              "      <th>0</th>\n",
              "      <td>892420643555336193</td>\n",
              "      <td>33796</td>\n",
              "      <td>7009</td>\n",
              "    </tr>\n",
              "    <tr>\n",
              "      <th>1</th>\n",
              "      <td>892177421306343426</td>\n",
              "      <td>29318</td>\n",
              "      <td>5301</td>\n",
              "    </tr>\n",
              "    <tr>\n",
              "      <th>2</th>\n",
              "      <td>891815181378084864</td>\n",
              "      <td>22043</td>\n",
              "      <td>3481</td>\n",
              "    </tr>\n",
              "    <tr>\n",
              "      <th>3</th>\n",
              "      <td>891689557279858688</td>\n",
              "      <td>36900</td>\n",
              "      <td>7217</td>\n",
              "    </tr>\n",
              "    <tr>\n",
              "      <th>4</th>\n",
              "      <td>891327558926688256</td>\n",
              "      <td>35275</td>\n",
              "      <td>7760</td>\n",
              "    </tr>\n",
              "  </tbody>\n",
              "</table>\n",
              "</div>\n",
              "      <button class=\"colab-df-convert\" onclick=\"convertToInteractive('df-680faab5-252c-437c-8194-9e2d51c7404a')\"\n",
              "              title=\"Convert this dataframe to an interactive table.\"\n",
              "              style=\"display:none;\">\n",
              "        \n",
              "  <svg xmlns=\"http://www.w3.org/2000/svg\" height=\"24px\"viewBox=\"0 0 24 24\"\n",
              "       width=\"24px\">\n",
              "    <path d=\"M0 0h24v24H0V0z\" fill=\"none\"/>\n",
              "    <path d=\"M18.56 5.44l.94 2.06.94-2.06 2.06-.94-2.06-.94-.94-2.06-.94 2.06-2.06.94zm-11 1L8.5 8.5l.94-2.06 2.06-.94-2.06-.94L8.5 2.5l-.94 2.06-2.06.94zm10 10l.94 2.06.94-2.06 2.06-.94-2.06-.94-.94-2.06-.94 2.06-2.06.94z\"/><path d=\"M17.41 7.96l-1.37-1.37c-.4-.4-.92-.59-1.43-.59-.52 0-1.04.2-1.43.59L10.3 9.45l-7.72 7.72c-.78.78-.78 2.05 0 2.83L4 21.41c.39.39.9.59 1.41.59.51 0 1.02-.2 1.41-.59l7.78-7.78 2.81-2.81c.8-.78.8-2.07 0-2.86zM5.41 20L4 18.59l7.72-7.72 1.47 1.35L5.41 20z\"/>\n",
              "  </svg>\n",
              "      </button>\n",
              "      \n",
              "  <style>\n",
              "    .colab-df-container {\n",
              "      display:flex;\n",
              "      flex-wrap:wrap;\n",
              "      gap: 12px;\n",
              "    }\n",
              "\n",
              "    .colab-df-convert {\n",
              "      background-color: #E8F0FE;\n",
              "      border: none;\n",
              "      border-radius: 50%;\n",
              "      cursor: pointer;\n",
              "      display: none;\n",
              "      fill: #1967D2;\n",
              "      height: 32px;\n",
              "      padding: 0 0 0 0;\n",
              "      width: 32px;\n",
              "    }\n",
              "\n",
              "    .colab-df-convert:hover {\n",
              "      background-color: #E2EBFA;\n",
              "      box-shadow: 0px 1px 2px rgba(60, 64, 67, 0.3), 0px 1px 3px 1px rgba(60, 64, 67, 0.15);\n",
              "      fill: #174EA6;\n",
              "    }\n",
              "\n",
              "    [theme=dark] .colab-df-convert {\n",
              "      background-color: #3B4455;\n",
              "      fill: #D2E3FC;\n",
              "    }\n",
              "\n",
              "    [theme=dark] .colab-df-convert:hover {\n",
              "      background-color: #434B5C;\n",
              "      box-shadow: 0px 1px 3px 1px rgba(0, 0, 0, 0.15);\n",
              "      filter: drop-shadow(0px 1px 2px rgba(0, 0, 0, 0.3));\n",
              "      fill: #FFFFFF;\n",
              "    }\n",
              "  </style>\n",
              "\n",
              "      <script>\n",
              "        const buttonEl =\n",
              "          document.querySelector('#df-680faab5-252c-437c-8194-9e2d51c7404a button.colab-df-convert');\n",
              "        buttonEl.style.display =\n",
              "          google.colab.kernel.accessAllowed ? 'block' : 'none';\n",
              "\n",
              "        async function convertToInteractive(key) {\n",
              "          const element = document.querySelector('#df-680faab5-252c-437c-8194-9e2d51c7404a');\n",
              "          const dataTable =\n",
              "            await google.colab.kernel.invokeFunction('convertToInteractive',\n",
              "                                                     [key], {});\n",
              "          if (!dataTable) return;\n",
              "\n",
              "          const docLinkHtml = 'Like what you see? Visit the ' +\n",
              "            '<a target=\"_blank\" href=https://colab.research.google.com/notebooks/data_table.ipynb>data table notebook</a>'\n",
              "            + ' to learn more about interactive tables.';\n",
              "          element.innerHTML = '';\n",
              "          dataTable['output_type'] = 'display_data';\n",
              "          await google.colab.output.renderOutput(dataTable, element);\n",
              "          const docLink = document.createElement('div');\n",
              "          docLink.innerHTML = docLinkHtml;\n",
              "          element.appendChild(docLink);\n",
              "        }\n",
              "      </script>\n",
              "    </div>\n",
              "  </div>\n",
              "  "
            ]
          },
          "metadata": {},
          "execution_count": 7
        }
      ]
    },
    {
      "cell_type": "code",
      "source": [
        "apiData.info()"
      ],
      "metadata": {
        "colab": {
          "base_uri": "https://localhost:8080/"
        },
        "id": "1Euo4amMDLDg",
        "outputId": "f5de48ac-1dd5-45e6-c743-24368e61d263"
      },
      "execution_count": 69,
      "outputs": [
        {
          "output_type": "stream",
          "name": "stdout",
          "text": [
            "<class 'pandas.core.frame.DataFrame'>\n",
            "RangeIndex: 2327 entries, 0 to 2326\n",
            "Data columns (total 3 columns):\n",
            " #   Column          Non-Null Count  Dtype\n",
            "---  ------          --------------  -----\n",
            " 0   tweet_id        2327 non-null   int64\n",
            " 1   favorite_count  2327 non-null   int64\n",
            " 2   retweet_count   2327 non-null   int64\n",
            "dtypes: int64(3)\n",
            "memory usage: 54.7 KB\n"
          ]
        }
      ]
    },
    {
      "cell_type": "markdown",
      "source": [
        "#Assess Data"
      ],
      "metadata": {
        "id": "XV99yuinlPmq"
      }
    },
    {
      "cell_type": "markdown",
      "source": [
        "###After gathering the data, I will programmatically and visually access the data for tidiness and quality issues."
      ],
      "metadata": {
        "id": "GTaZYoq0ldVK"
      }
    },
    {
      "cell_type": "markdown",
      "source": [
        "Assessing dog_archive dataset"
      ],
      "metadata": {
        "id": "Af0EHQlFnGxc"
      }
    },
    {
      "cell_type": "code",
      "source": [
        "dog_archive.info()"
      ],
      "metadata": {
        "colab": {
          "base_uri": "https://localhost:8080/"
        },
        "id": "zeyq3t44aac1",
        "outputId": "02021212-3688-40a7-e599-ac86a03f034f"
      },
      "execution_count": 8,
      "outputs": [
        {
          "output_type": "stream",
          "name": "stdout",
          "text": [
            "<class 'pandas.core.frame.DataFrame'>\n",
            "RangeIndex: 2356 entries, 0 to 2355\n",
            "Data columns (total 17 columns):\n",
            " #   Column                      Non-Null Count  Dtype  \n",
            "---  ------                      --------------  -----  \n",
            " 0   tweet_id                    2356 non-null   int64  \n",
            " 1   in_reply_to_status_id       78 non-null     float64\n",
            " 2   in_reply_to_user_id         78 non-null     float64\n",
            " 3   timestamp                   2356 non-null   object \n",
            " 4   source                      2356 non-null   object \n",
            " 5   text                        2356 non-null   object \n",
            " 6   retweeted_status_id         181 non-null    float64\n",
            " 7   retweeted_status_user_id    181 non-null    float64\n",
            " 8   retweeted_status_timestamp  181 non-null    object \n",
            " 9   expanded_urls               2297 non-null   object \n",
            " 10  rating_numerator            2356 non-null   int64  \n",
            " 11  rating_denominator          2356 non-null   int64  \n",
            " 12  name                        2356 non-null   object \n",
            " 13  doggo                       2356 non-null   object \n",
            " 14  floofer                     2356 non-null   object \n",
            " 15  pupper                      2356 non-null   object \n",
            " 16  puppo                       2356 non-null   object \n",
            "dtypes: float64(4), int64(3), object(10)\n",
            "memory usage: 313.0+ KB\n"
          ]
        }
      ]
    },
    {
      "cell_type": "markdown",
      "source": [
        "####Obviously, there are null values in this dataset. Checking for duplicate values"
      ],
      "metadata": {
        "id": "Mlj7N30PnYHI"
      }
    },
    {
      "cell_type": "code",
      "source": [
        "dog_archive['tweet_id'].duplicated().sum()"
      ],
      "metadata": {
        "colab": {
          "base_uri": "https://localhost:8080/"
        },
        "id": "Mw03LiLDnXTj",
        "outputId": "e97c5a02-88ef-4690-ddc4-839ee20b5820"
      },
      "execution_count": 9,
      "outputs": [
        {
          "output_type": "execute_result",
          "data": {
            "text/plain": [
              "0"
            ]
          },
          "metadata": {},
          "execution_count": 9
        }
      ]
    },
    {
      "cell_type": "code",
      "source": [
        "dog_archive.describe()"
      ],
      "metadata": {
        "colab": {
          "base_uri": "https://localhost:8080/",
          "height": 364
        },
        "id": "iQcjUx65pQ0o",
        "outputId": "ebfe31e3-05e9-4be3-f510-1b54e9a3d2e9"
      },
      "execution_count": 10,
      "outputs": [
        {
          "output_type": "execute_result",
          "data": {
            "text/plain": [
              "           tweet_id  in_reply_to_status_id  in_reply_to_user_id  \\\n",
              "count  2.356000e+03           7.800000e+01         7.800000e+01   \n",
              "mean   7.427716e+17           7.455079e+17         2.014171e+16   \n",
              "std    6.856705e+16           7.582492e+16         1.252797e+17   \n",
              "min    6.660209e+17           6.658147e+17         1.185634e+07   \n",
              "25%    6.783989e+17           6.757419e+17         3.086374e+08   \n",
              "50%    7.196279e+17           7.038708e+17         4.196984e+09   \n",
              "75%    7.993373e+17           8.257804e+17         4.196984e+09   \n",
              "max    8.924206e+17           8.862664e+17         8.405479e+17   \n",
              "\n",
              "       retweeted_status_id  retweeted_status_user_id  rating_numerator  \\\n",
              "count         1.810000e+02              1.810000e+02       2356.000000   \n",
              "mean          7.720400e+17              1.241698e+16         13.126486   \n",
              "std           6.236928e+16              9.599254e+16         45.876648   \n",
              "min           6.661041e+17              7.832140e+05          0.000000   \n",
              "25%           7.186315e+17              4.196984e+09         10.000000   \n",
              "50%           7.804657e+17              4.196984e+09         11.000000   \n",
              "75%           8.203146e+17              4.196984e+09         12.000000   \n",
              "max           8.874740e+17              7.874618e+17       1776.000000   \n",
              "\n",
              "       rating_denominator  \n",
              "count         2356.000000  \n",
              "mean            10.455433  \n",
              "std              6.745237  \n",
              "min              0.000000  \n",
              "25%             10.000000  \n",
              "50%             10.000000  \n",
              "75%             10.000000  \n",
              "max            170.000000  "
            ],
            "text/html": [
              "\n",
              "  <div id=\"df-ce9c9d0f-8d95-4e23-bd7f-f85b03a1f423\">\n",
              "    <div class=\"colab-df-container\">\n",
              "      <div>\n",
              "<style scoped>\n",
              "    .dataframe tbody tr th:only-of-type {\n",
              "        vertical-align: middle;\n",
              "    }\n",
              "\n",
              "    .dataframe tbody tr th {\n",
              "        vertical-align: top;\n",
              "    }\n",
              "\n",
              "    .dataframe thead th {\n",
              "        text-align: right;\n",
              "    }\n",
              "</style>\n",
              "<table border=\"1\" class=\"dataframe\">\n",
              "  <thead>\n",
              "    <tr style=\"text-align: right;\">\n",
              "      <th></th>\n",
              "      <th>tweet_id</th>\n",
              "      <th>in_reply_to_status_id</th>\n",
              "      <th>in_reply_to_user_id</th>\n",
              "      <th>retweeted_status_id</th>\n",
              "      <th>retweeted_status_user_id</th>\n",
              "      <th>rating_numerator</th>\n",
              "      <th>rating_denominator</th>\n",
              "    </tr>\n",
              "  </thead>\n",
              "  <tbody>\n",
              "    <tr>\n",
              "      <th>count</th>\n",
              "      <td>2.356000e+03</td>\n",
              "      <td>7.800000e+01</td>\n",
              "      <td>7.800000e+01</td>\n",
              "      <td>1.810000e+02</td>\n",
              "      <td>1.810000e+02</td>\n",
              "      <td>2356.000000</td>\n",
              "      <td>2356.000000</td>\n",
              "    </tr>\n",
              "    <tr>\n",
              "      <th>mean</th>\n",
              "      <td>7.427716e+17</td>\n",
              "      <td>7.455079e+17</td>\n",
              "      <td>2.014171e+16</td>\n",
              "      <td>7.720400e+17</td>\n",
              "      <td>1.241698e+16</td>\n",
              "      <td>13.126486</td>\n",
              "      <td>10.455433</td>\n",
              "    </tr>\n",
              "    <tr>\n",
              "      <th>std</th>\n",
              "      <td>6.856705e+16</td>\n",
              "      <td>7.582492e+16</td>\n",
              "      <td>1.252797e+17</td>\n",
              "      <td>6.236928e+16</td>\n",
              "      <td>9.599254e+16</td>\n",
              "      <td>45.876648</td>\n",
              "      <td>6.745237</td>\n",
              "    </tr>\n",
              "    <tr>\n",
              "      <th>min</th>\n",
              "      <td>6.660209e+17</td>\n",
              "      <td>6.658147e+17</td>\n",
              "      <td>1.185634e+07</td>\n",
              "      <td>6.661041e+17</td>\n",
              "      <td>7.832140e+05</td>\n",
              "      <td>0.000000</td>\n",
              "      <td>0.000000</td>\n",
              "    </tr>\n",
              "    <tr>\n",
              "      <th>25%</th>\n",
              "      <td>6.783989e+17</td>\n",
              "      <td>6.757419e+17</td>\n",
              "      <td>3.086374e+08</td>\n",
              "      <td>7.186315e+17</td>\n",
              "      <td>4.196984e+09</td>\n",
              "      <td>10.000000</td>\n",
              "      <td>10.000000</td>\n",
              "    </tr>\n",
              "    <tr>\n",
              "      <th>50%</th>\n",
              "      <td>7.196279e+17</td>\n",
              "      <td>7.038708e+17</td>\n",
              "      <td>4.196984e+09</td>\n",
              "      <td>7.804657e+17</td>\n",
              "      <td>4.196984e+09</td>\n",
              "      <td>11.000000</td>\n",
              "      <td>10.000000</td>\n",
              "    </tr>\n",
              "    <tr>\n",
              "      <th>75%</th>\n",
              "      <td>7.993373e+17</td>\n",
              "      <td>8.257804e+17</td>\n",
              "      <td>4.196984e+09</td>\n",
              "      <td>8.203146e+17</td>\n",
              "      <td>4.196984e+09</td>\n",
              "      <td>12.000000</td>\n",
              "      <td>10.000000</td>\n",
              "    </tr>\n",
              "    <tr>\n",
              "      <th>max</th>\n",
              "      <td>8.924206e+17</td>\n",
              "      <td>8.862664e+17</td>\n",
              "      <td>8.405479e+17</td>\n",
              "      <td>8.874740e+17</td>\n",
              "      <td>7.874618e+17</td>\n",
              "      <td>1776.000000</td>\n",
              "      <td>170.000000</td>\n",
              "    </tr>\n",
              "  </tbody>\n",
              "</table>\n",
              "</div>\n",
              "      <button class=\"colab-df-convert\" onclick=\"convertToInteractive('df-ce9c9d0f-8d95-4e23-bd7f-f85b03a1f423')\"\n",
              "              title=\"Convert this dataframe to an interactive table.\"\n",
              "              style=\"display:none;\">\n",
              "        \n",
              "  <svg xmlns=\"http://www.w3.org/2000/svg\" height=\"24px\"viewBox=\"0 0 24 24\"\n",
              "       width=\"24px\">\n",
              "    <path d=\"M0 0h24v24H0V0z\" fill=\"none\"/>\n",
              "    <path d=\"M18.56 5.44l.94 2.06.94-2.06 2.06-.94-2.06-.94-.94-2.06-.94 2.06-2.06.94zm-11 1L8.5 8.5l.94-2.06 2.06-.94-2.06-.94L8.5 2.5l-.94 2.06-2.06.94zm10 10l.94 2.06.94-2.06 2.06-.94-2.06-.94-.94-2.06-.94 2.06-2.06.94z\"/><path d=\"M17.41 7.96l-1.37-1.37c-.4-.4-.92-.59-1.43-.59-.52 0-1.04.2-1.43.59L10.3 9.45l-7.72 7.72c-.78.78-.78 2.05 0 2.83L4 21.41c.39.39.9.59 1.41.59.51 0 1.02-.2 1.41-.59l7.78-7.78 2.81-2.81c.8-.78.8-2.07 0-2.86zM5.41 20L4 18.59l7.72-7.72 1.47 1.35L5.41 20z\"/>\n",
              "  </svg>\n",
              "      </button>\n",
              "      \n",
              "  <style>\n",
              "    .colab-df-container {\n",
              "      display:flex;\n",
              "      flex-wrap:wrap;\n",
              "      gap: 12px;\n",
              "    }\n",
              "\n",
              "    .colab-df-convert {\n",
              "      background-color: #E8F0FE;\n",
              "      border: none;\n",
              "      border-radius: 50%;\n",
              "      cursor: pointer;\n",
              "      display: none;\n",
              "      fill: #1967D2;\n",
              "      height: 32px;\n",
              "      padding: 0 0 0 0;\n",
              "      width: 32px;\n",
              "    }\n",
              "\n",
              "    .colab-df-convert:hover {\n",
              "      background-color: #E2EBFA;\n",
              "      box-shadow: 0px 1px 2px rgba(60, 64, 67, 0.3), 0px 1px 3px 1px rgba(60, 64, 67, 0.15);\n",
              "      fill: #174EA6;\n",
              "    }\n",
              "\n",
              "    [theme=dark] .colab-df-convert {\n",
              "      background-color: #3B4455;\n",
              "      fill: #D2E3FC;\n",
              "    }\n",
              "\n",
              "    [theme=dark] .colab-df-convert:hover {\n",
              "      background-color: #434B5C;\n",
              "      box-shadow: 0px 1px 3px 1px rgba(0, 0, 0, 0.15);\n",
              "      filter: drop-shadow(0px 1px 2px rgba(0, 0, 0, 0.3));\n",
              "      fill: #FFFFFF;\n",
              "    }\n",
              "  </style>\n",
              "\n",
              "      <script>\n",
              "        const buttonEl =\n",
              "          document.querySelector('#df-ce9c9d0f-8d95-4e23-bd7f-f85b03a1f423 button.colab-df-convert');\n",
              "        buttonEl.style.display =\n",
              "          google.colab.kernel.accessAllowed ? 'block' : 'none';\n",
              "\n",
              "        async function convertToInteractive(key) {\n",
              "          const element = document.querySelector('#df-ce9c9d0f-8d95-4e23-bd7f-f85b03a1f423');\n",
              "          const dataTable =\n",
              "            await google.colab.kernel.invokeFunction('convertToInteractive',\n",
              "                                                     [key], {});\n",
              "          if (!dataTable) return;\n",
              "\n",
              "          const docLinkHtml = 'Like what you see? Visit the ' +\n",
              "            '<a target=\"_blank\" href=https://colab.research.google.com/notebooks/data_table.ipynb>data table notebook</a>'\n",
              "            + ' to learn more about interactive tables.';\n",
              "          element.innerHTML = '';\n",
              "          dataTable['output_type'] = 'display_data';\n",
              "          await google.colab.output.renderOutput(dataTable, element);\n",
              "          const docLink = document.createElement('div');\n",
              "          docLink.innerHTML = docLinkHtml;\n",
              "          element.appendChild(docLink);\n",
              "        }\n",
              "      </script>\n",
              "    </div>\n",
              "  </div>\n",
              "  "
            ]
          },
          "metadata": {},
          "execution_count": 10
        }
      ]
    },
    {
      "cell_type": "markdown",
      "source": [
        "###value count for rating_numerator and rating_denominator\n"
      ],
      "metadata": {
        "id": "leQlFAF4qR3-"
      }
    },
    {
      "cell_type": "code",
      "source": [
        "dog_archive['rating_numerator'].value_counts()"
      ],
      "metadata": {
        "colab": {
          "base_uri": "https://localhost:8080/"
        },
        "id": "dMACSNEBqbVz",
        "outputId": "e213f63c-81f6-4327-cf21-488665ddd69a"
      },
      "execution_count": 11,
      "outputs": [
        {
          "output_type": "execute_result",
          "data": {
            "text/plain": [
              "12      558\n",
              "11      464\n",
              "10      461\n",
              "13      351\n",
              "9       158\n",
              "8       102\n",
              "7        55\n",
              "14       54\n",
              "5        37\n",
              "6        32\n",
              "3        19\n",
              "4        17\n",
              "2         9\n",
              "1         9\n",
              "75        2\n",
              "15        2\n",
              "420       2\n",
              "0         2\n",
              "80        1\n",
              "144       1\n",
              "17        1\n",
              "26        1\n",
              "20        1\n",
              "121       1\n",
              "143       1\n",
              "44        1\n",
              "60        1\n",
              "45        1\n",
              "50        1\n",
              "99        1\n",
              "204       1\n",
              "1776      1\n",
              "165       1\n",
              "666       1\n",
              "27        1\n",
              "182       1\n",
              "24        1\n",
              "960       1\n",
              "84        1\n",
              "88        1\n",
              "Name: rating_numerator, dtype: int64"
            ]
          },
          "metadata": {},
          "execution_count": 11
        }
      ]
    },
    {
      "cell_type": "code",
      "source": [
        "dog_archive['rating_denominator'].value_counts()"
      ],
      "metadata": {
        "colab": {
          "base_uri": "https://localhost:8080/"
        },
        "id": "1nZN9RasqoxD",
        "outputId": "826ad17f-77a9-4f96-8874-1d511c4da816"
      },
      "execution_count": 12,
      "outputs": [
        {
          "output_type": "execute_result",
          "data": {
            "text/plain": [
              "10     2333\n",
              "11        3\n",
              "50        3\n",
              "20        2\n",
              "80        2\n",
              "70        1\n",
              "7         1\n",
              "15        1\n",
              "150       1\n",
              "170       1\n",
              "0         1\n",
              "90        1\n",
              "40        1\n",
              "130       1\n",
              "110       1\n",
              "16        1\n",
              "120       1\n",
              "2         1\n",
              "Name: rating_denominator, dtype: int64"
            ]
          },
          "metadata": {},
          "execution_count": 12
        }
      ]
    },
    {
      "cell_type": "markdown",
      "source": [
        "Dog having names less than two letters"
      ],
      "metadata": {
        "id": "Ty1v9dFI038q"
      }
    },
    {
      "cell_type": "code",
      "source": [
        "dog_archive[dog_archive['name'].apply(lambda x: str(x)=='None' or len(str(x)) < 2)]['name']"
      ],
      "metadata": {
        "colab": {
          "base_uri": "https://localhost:8080/"
        },
        "id": "0RDuhY2x08ez",
        "outputId": "f7458c9a-60c9-4f48-9967-0a084ae8fc4f"
      },
      "execution_count": 13,
      "outputs": [
        {
          "output_type": "execute_result",
          "data": {
            "text/plain": [
              "5       None\n",
              "7       None\n",
              "12      None\n",
              "24      None\n",
              "25      None\n",
              "        ... \n",
              "2351    None\n",
              "2352       a\n",
              "2353       a\n",
              "2354       a\n",
              "2355    None\n",
              "Name: name, Length: 801, dtype: object"
            ]
          },
          "metadata": {},
          "execution_count": 13
        }
      ]
    },
    {
      "cell_type": "markdown",
      "source": [
        "###Assessing tweet image predictions"
      ],
      "metadata": {
        "id": "gmA1I_-ArOVf"
      }
    },
    {
      "cell_type": "code",
      "source": [
        "dog_images.head()"
      ],
      "metadata": {
        "colab": {
          "base_uri": "https://localhost:8080/",
          "height": 270
        },
        "id": "Gweo1B7mrQ5z",
        "outputId": "0be62b14-ccbe-492d-cd73-58151153f0b8"
      },
      "execution_count": 14,
      "outputs": [
        {
          "output_type": "execute_result",
          "data": {
            "text/plain": [
              "             tweet_id                                          jpg_url  \\\n",
              "0  666020888022790149  https://pbs.twimg.com/media/CT4udn0WwAA0aMy.jpg   \n",
              "1  666029285002620928  https://pbs.twimg.com/media/CT42GRgUYAA5iDo.jpg   \n",
              "2  666033412701032449  https://pbs.twimg.com/media/CT4521TWwAEvMyu.jpg   \n",
              "3  666044226329800704  https://pbs.twimg.com/media/CT5Dr8HUEAA-lEu.jpg   \n",
              "4  666049248165822465  https://pbs.twimg.com/media/CT5IQmsXIAAKY4A.jpg   \n",
              "\n",
              "   img_num                      p1   p1_conf  p1_dog                  p2  \\\n",
              "0        1  Welsh_springer_spaniel  0.465074    True              collie   \n",
              "1        1                 redbone  0.506826    True  miniature_pinscher   \n",
              "2        1         German_shepherd  0.596461    True            malinois   \n",
              "3        1     Rhodesian_ridgeback  0.408143    True             redbone   \n",
              "4        1      miniature_pinscher  0.560311    True          Rottweiler   \n",
              "\n",
              "    p2_conf  p2_dog                   p3   p3_conf  p3_dog  \n",
              "0  0.156665    True    Shetland_sheepdog  0.061428    True  \n",
              "1  0.074192    True  Rhodesian_ridgeback  0.072010    True  \n",
              "2  0.138584    True           bloodhound  0.116197    True  \n",
              "3  0.360687    True   miniature_pinscher  0.222752    True  \n",
              "4  0.243682    True             Doberman  0.154629    True  "
            ],
            "text/html": [
              "\n",
              "  <div id=\"df-1dde9378-8824-4513-8ad2-d898db79d3ec\">\n",
              "    <div class=\"colab-df-container\">\n",
              "      <div>\n",
              "<style scoped>\n",
              "    .dataframe tbody tr th:only-of-type {\n",
              "        vertical-align: middle;\n",
              "    }\n",
              "\n",
              "    .dataframe tbody tr th {\n",
              "        vertical-align: top;\n",
              "    }\n",
              "\n",
              "    .dataframe thead th {\n",
              "        text-align: right;\n",
              "    }\n",
              "</style>\n",
              "<table border=\"1\" class=\"dataframe\">\n",
              "  <thead>\n",
              "    <tr style=\"text-align: right;\">\n",
              "      <th></th>\n",
              "      <th>tweet_id</th>\n",
              "      <th>jpg_url</th>\n",
              "      <th>img_num</th>\n",
              "      <th>p1</th>\n",
              "      <th>p1_conf</th>\n",
              "      <th>p1_dog</th>\n",
              "      <th>p2</th>\n",
              "      <th>p2_conf</th>\n",
              "      <th>p2_dog</th>\n",
              "      <th>p3</th>\n",
              "      <th>p3_conf</th>\n",
              "      <th>p3_dog</th>\n",
              "    </tr>\n",
              "  </thead>\n",
              "  <tbody>\n",
              "    <tr>\n",
              "      <th>0</th>\n",
              "      <td>666020888022790149</td>\n",
              "      <td>https://pbs.twimg.com/media/CT4udn0WwAA0aMy.jpg</td>\n",
              "      <td>1</td>\n",
              "      <td>Welsh_springer_spaniel</td>\n",
              "      <td>0.465074</td>\n",
              "      <td>True</td>\n",
              "      <td>collie</td>\n",
              "      <td>0.156665</td>\n",
              "      <td>True</td>\n",
              "      <td>Shetland_sheepdog</td>\n",
              "      <td>0.061428</td>\n",
              "      <td>True</td>\n",
              "    </tr>\n",
              "    <tr>\n",
              "      <th>1</th>\n",
              "      <td>666029285002620928</td>\n",
              "      <td>https://pbs.twimg.com/media/CT42GRgUYAA5iDo.jpg</td>\n",
              "      <td>1</td>\n",
              "      <td>redbone</td>\n",
              "      <td>0.506826</td>\n",
              "      <td>True</td>\n",
              "      <td>miniature_pinscher</td>\n",
              "      <td>0.074192</td>\n",
              "      <td>True</td>\n",
              "      <td>Rhodesian_ridgeback</td>\n",
              "      <td>0.072010</td>\n",
              "      <td>True</td>\n",
              "    </tr>\n",
              "    <tr>\n",
              "      <th>2</th>\n",
              "      <td>666033412701032449</td>\n",
              "      <td>https://pbs.twimg.com/media/CT4521TWwAEvMyu.jpg</td>\n",
              "      <td>1</td>\n",
              "      <td>German_shepherd</td>\n",
              "      <td>0.596461</td>\n",
              "      <td>True</td>\n",
              "      <td>malinois</td>\n",
              "      <td>0.138584</td>\n",
              "      <td>True</td>\n",
              "      <td>bloodhound</td>\n",
              "      <td>0.116197</td>\n",
              "      <td>True</td>\n",
              "    </tr>\n",
              "    <tr>\n",
              "      <th>3</th>\n",
              "      <td>666044226329800704</td>\n",
              "      <td>https://pbs.twimg.com/media/CT5Dr8HUEAA-lEu.jpg</td>\n",
              "      <td>1</td>\n",
              "      <td>Rhodesian_ridgeback</td>\n",
              "      <td>0.408143</td>\n",
              "      <td>True</td>\n",
              "      <td>redbone</td>\n",
              "      <td>0.360687</td>\n",
              "      <td>True</td>\n",
              "      <td>miniature_pinscher</td>\n",
              "      <td>0.222752</td>\n",
              "      <td>True</td>\n",
              "    </tr>\n",
              "    <tr>\n",
              "      <th>4</th>\n",
              "      <td>666049248165822465</td>\n",
              "      <td>https://pbs.twimg.com/media/CT5IQmsXIAAKY4A.jpg</td>\n",
              "      <td>1</td>\n",
              "      <td>miniature_pinscher</td>\n",
              "      <td>0.560311</td>\n",
              "      <td>True</td>\n",
              "      <td>Rottweiler</td>\n",
              "      <td>0.243682</td>\n",
              "      <td>True</td>\n",
              "      <td>Doberman</td>\n",
              "      <td>0.154629</td>\n",
              "      <td>True</td>\n",
              "    </tr>\n",
              "  </tbody>\n",
              "</table>\n",
              "</div>\n",
              "      <button class=\"colab-df-convert\" onclick=\"convertToInteractive('df-1dde9378-8824-4513-8ad2-d898db79d3ec')\"\n",
              "              title=\"Convert this dataframe to an interactive table.\"\n",
              "              style=\"display:none;\">\n",
              "        \n",
              "  <svg xmlns=\"http://www.w3.org/2000/svg\" height=\"24px\"viewBox=\"0 0 24 24\"\n",
              "       width=\"24px\">\n",
              "    <path d=\"M0 0h24v24H0V0z\" fill=\"none\"/>\n",
              "    <path d=\"M18.56 5.44l.94 2.06.94-2.06 2.06-.94-2.06-.94-.94-2.06-.94 2.06-2.06.94zm-11 1L8.5 8.5l.94-2.06 2.06-.94-2.06-.94L8.5 2.5l-.94 2.06-2.06.94zm10 10l.94 2.06.94-2.06 2.06-.94-2.06-.94-.94-2.06-.94 2.06-2.06.94z\"/><path d=\"M17.41 7.96l-1.37-1.37c-.4-.4-.92-.59-1.43-.59-.52 0-1.04.2-1.43.59L10.3 9.45l-7.72 7.72c-.78.78-.78 2.05 0 2.83L4 21.41c.39.39.9.59 1.41.59.51 0 1.02-.2 1.41-.59l7.78-7.78 2.81-2.81c.8-.78.8-2.07 0-2.86zM5.41 20L4 18.59l7.72-7.72 1.47 1.35L5.41 20z\"/>\n",
              "  </svg>\n",
              "      </button>\n",
              "      \n",
              "  <style>\n",
              "    .colab-df-container {\n",
              "      display:flex;\n",
              "      flex-wrap:wrap;\n",
              "      gap: 12px;\n",
              "    }\n",
              "\n",
              "    .colab-df-convert {\n",
              "      background-color: #E8F0FE;\n",
              "      border: none;\n",
              "      border-radius: 50%;\n",
              "      cursor: pointer;\n",
              "      display: none;\n",
              "      fill: #1967D2;\n",
              "      height: 32px;\n",
              "      padding: 0 0 0 0;\n",
              "      width: 32px;\n",
              "    }\n",
              "\n",
              "    .colab-df-convert:hover {\n",
              "      background-color: #E2EBFA;\n",
              "      box-shadow: 0px 1px 2px rgba(60, 64, 67, 0.3), 0px 1px 3px 1px rgba(60, 64, 67, 0.15);\n",
              "      fill: #174EA6;\n",
              "    }\n",
              "\n",
              "    [theme=dark] .colab-df-convert {\n",
              "      background-color: #3B4455;\n",
              "      fill: #D2E3FC;\n",
              "    }\n",
              "\n",
              "    [theme=dark] .colab-df-convert:hover {\n",
              "      background-color: #434B5C;\n",
              "      box-shadow: 0px 1px 3px 1px rgba(0, 0, 0, 0.15);\n",
              "      filter: drop-shadow(0px 1px 2px rgba(0, 0, 0, 0.3));\n",
              "      fill: #FFFFFF;\n",
              "    }\n",
              "  </style>\n",
              "\n",
              "      <script>\n",
              "        const buttonEl =\n",
              "          document.querySelector('#df-1dde9378-8824-4513-8ad2-d898db79d3ec button.colab-df-convert');\n",
              "        buttonEl.style.display =\n",
              "          google.colab.kernel.accessAllowed ? 'block' : 'none';\n",
              "\n",
              "        async function convertToInteractive(key) {\n",
              "          const element = document.querySelector('#df-1dde9378-8824-4513-8ad2-d898db79d3ec');\n",
              "          const dataTable =\n",
              "            await google.colab.kernel.invokeFunction('convertToInteractive',\n",
              "                                                     [key], {});\n",
              "          if (!dataTable) return;\n",
              "\n",
              "          const docLinkHtml = 'Like what you see? Visit the ' +\n",
              "            '<a target=\"_blank\" href=https://colab.research.google.com/notebooks/data_table.ipynb>data table notebook</a>'\n",
              "            + ' to learn more about interactive tables.';\n",
              "          element.innerHTML = '';\n",
              "          dataTable['output_type'] = 'display_data';\n",
              "          await google.colab.output.renderOutput(dataTable, element);\n",
              "          const docLink = document.createElement('div');\n",
              "          docLink.innerHTML = docLinkHtml;\n",
              "          element.appendChild(docLink);\n",
              "        }\n",
              "      </script>\n",
              "    </div>\n",
              "  </div>\n",
              "  "
            ]
          },
          "metadata": {},
          "execution_count": 14
        }
      ]
    },
    {
      "cell_type": "code",
      "source": [
        "dog_images.info()"
      ],
      "metadata": {
        "colab": {
          "base_uri": "https://localhost:8080/"
        },
        "id": "0NAyxpyErZ8y",
        "outputId": "0716b40c-c9d8-4509-a2f0-40d4db167113"
      },
      "execution_count": 15,
      "outputs": [
        {
          "output_type": "stream",
          "name": "stdout",
          "text": [
            "<class 'pandas.core.frame.DataFrame'>\n",
            "RangeIndex: 2075 entries, 0 to 2074\n",
            "Data columns (total 12 columns):\n",
            " #   Column    Non-Null Count  Dtype  \n",
            "---  ------    --------------  -----  \n",
            " 0   tweet_id  2075 non-null   int64  \n",
            " 1   jpg_url   2075 non-null   object \n",
            " 2   img_num   2075 non-null   int64  \n",
            " 3   p1        2075 non-null   object \n",
            " 4   p1_conf   2075 non-null   float64\n",
            " 5   p1_dog    2075 non-null   bool   \n",
            " 6   p2        2075 non-null   object \n",
            " 7   p2_conf   2075 non-null   float64\n",
            " 8   p2_dog    2075 non-null   bool   \n",
            " 9   p3        2075 non-null   object \n",
            " 10  p3_conf   2075 non-null   float64\n",
            " 11  p3_dog    2075 non-null   bool   \n",
            "dtypes: bool(3), float64(3), int64(2), object(4)\n",
            "memory usage: 152.1+ KB\n"
          ]
        }
      ]
    },
    {
      "cell_type": "markdown",
      "source": [
        "Missing rows between the dog_archive and the dog_image"
      ],
      "metadata": {
        "id": "SgTt_PCes8zu"
      }
    },
    {
      "cell_type": "code",
      "source": [
        "len(dog_archive) - len(dog_images)"
      ],
      "metadata": {
        "colab": {
          "base_uri": "https://localhost:8080/"
        },
        "id": "BcK_OPchtFDb",
        "outputId": "929113b9-a22a-4bff-e0e9-c40bfd4305ee"
      },
      "execution_count": 16,
      "outputs": [
        {
          "output_type": "execute_result",
          "data": {
            "text/plain": [
              "281"
            ]
          },
          "metadata": {},
          "execution_count": 16
        }
      ]
    },
    {
      "cell_type": "markdown",
      "source": [
        "Duplicates"
      ],
      "metadata": {
        "id": "BPSgwvektTqy"
      }
    },
    {
      "cell_type": "code",
      "source": [
        "dog_images.duplicated().sum()"
      ],
      "metadata": {
        "colab": {
          "base_uri": "https://localhost:8080/"
        },
        "id": "a15jQguUtOfi",
        "outputId": "447380c5-93a7-45db-f3d5-be931d82f21a"
      },
      "execution_count": 17,
      "outputs": [
        {
          "output_type": "execute_result",
          "data": {
            "text/plain": [
              "0"
            ]
          },
          "metadata": {},
          "execution_count": 17
        }
      ]
    },
    {
      "cell_type": "markdown",
      "source": [
        "Checking for duplicate images "
      ],
      "metadata": {
        "id": "9y5pvUlttk4r"
      }
    },
    {
      "cell_type": "code",
      "source": [
        "dog_images['jpg_url'].duplicated().sum()"
      ],
      "metadata": {
        "colab": {
          "base_uri": "https://localhost:8080/"
        },
        "id": "HEZqC8RntoFY",
        "outputId": "d8999ab7-1da2-487b-aa6b-078455be7802"
      },
      "execution_count": 18,
      "outputs": [
        {
          "output_type": "execute_result",
          "data": {
            "text/plain": [
              "66"
            ]
          },
          "metadata": {},
          "execution_count": 18
        }
      ]
    },
    {
      "cell_type": "markdown",
      "source": [
        "###Assessing Twitter Api"
      ],
      "metadata": {
        "id": "EQJB-ufKwuW0"
      }
    },
    {
      "cell_type": "code",
      "source": [
        "apiData.head()"
      ],
      "metadata": {
        "colab": {
          "base_uri": "https://localhost:8080/",
          "height": 206
        },
        "id": "rlU4wBEcw2eK",
        "outputId": "5138e6fc-ff1d-47f1-979e-42734377fa3c"
      },
      "execution_count": 19,
      "outputs": [
        {
          "output_type": "execute_result",
          "data": {
            "text/plain": [
              "             tweet_id  favorite_count  retweet_count\n",
              "0  892420643555336193           33796           7009\n",
              "1  892177421306343426           29318           5301\n",
              "2  891815181378084864           22043           3481\n",
              "3  891689557279858688           36900           7217\n",
              "4  891327558926688256           35275           7760"
            ],
            "text/html": [
              "\n",
              "  <div id=\"df-e260e88f-f40b-438a-840a-593818694362\">\n",
              "    <div class=\"colab-df-container\">\n",
              "      <div>\n",
              "<style scoped>\n",
              "    .dataframe tbody tr th:only-of-type {\n",
              "        vertical-align: middle;\n",
              "    }\n",
              "\n",
              "    .dataframe tbody tr th {\n",
              "        vertical-align: top;\n",
              "    }\n",
              "\n",
              "    .dataframe thead th {\n",
              "        text-align: right;\n",
              "    }\n",
              "</style>\n",
              "<table border=\"1\" class=\"dataframe\">\n",
              "  <thead>\n",
              "    <tr style=\"text-align: right;\">\n",
              "      <th></th>\n",
              "      <th>tweet_id</th>\n",
              "      <th>favorite_count</th>\n",
              "      <th>retweet_count</th>\n",
              "    </tr>\n",
              "  </thead>\n",
              "  <tbody>\n",
              "    <tr>\n",
              "      <th>0</th>\n",
              "      <td>892420643555336193</td>\n",
              "      <td>33796</td>\n",
              "      <td>7009</td>\n",
              "    </tr>\n",
              "    <tr>\n",
              "      <th>1</th>\n",
              "      <td>892177421306343426</td>\n",
              "      <td>29318</td>\n",
              "      <td>5301</td>\n",
              "    </tr>\n",
              "    <tr>\n",
              "      <th>2</th>\n",
              "      <td>891815181378084864</td>\n",
              "      <td>22043</td>\n",
              "      <td>3481</td>\n",
              "    </tr>\n",
              "    <tr>\n",
              "      <th>3</th>\n",
              "      <td>891689557279858688</td>\n",
              "      <td>36900</td>\n",
              "      <td>7217</td>\n",
              "    </tr>\n",
              "    <tr>\n",
              "      <th>4</th>\n",
              "      <td>891327558926688256</td>\n",
              "      <td>35275</td>\n",
              "      <td>7760</td>\n",
              "    </tr>\n",
              "  </tbody>\n",
              "</table>\n",
              "</div>\n",
              "      <button class=\"colab-df-convert\" onclick=\"convertToInteractive('df-e260e88f-f40b-438a-840a-593818694362')\"\n",
              "              title=\"Convert this dataframe to an interactive table.\"\n",
              "              style=\"display:none;\">\n",
              "        \n",
              "  <svg xmlns=\"http://www.w3.org/2000/svg\" height=\"24px\"viewBox=\"0 0 24 24\"\n",
              "       width=\"24px\">\n",
              "    <path d=\"M0 0h24v24H0V0z\" fill=\"none\"/>\n",
              "    <path d=\"M18.56 5.44l.94 2.06.94-2.06 2.06-.94-2.06-.94-.94-2.06-.94 2.06-2.06.94zm-11 1L8.5 8.5l.94-2.06 2.06-.94-2.06-.94L8.5 2.5l-.94 2.06-2.06.94zm10 10l.94 2.06.94-2.06 2.06-.94-2.06-.94-.94-2.06-.94 2.06-2.06.94z\"/><path d=\"M17.41 7.96l-1.37-1.37c-.4-.4-.92-.59-1.43-.59-.52 0-1.04.2-1.43.59L10.3 9.45l-7.72 7.72c-.78.78-.78 2.05 0 2.83L4 21.41c.39.39.9.59 1.41.59.51 0 1.02-.2 1.41-.59l7.78-7.78 2.81-2.81c.8-.78.8-2.07 0-2.86zM5.41 20L4 18.59l7.72-7.72 1.47 1.35L5.41 20z\"/>\n",
              "  </svg>\n",
              "      </button>\n",
              "      \n",
              "  <style>\n",
              "    .colab-df-container {\n",
              "      display:flex;\n",
              "      flex-wrap:wrap;\n",
              "      gap: 12px;\n",
              "    }\n",
              "\n",
              "    .colab-df-convert {\n",
              "      background-color: #E8F0FE;\n",
              "      border: none;\n",
              "      border-radius: 50%;\n",
              "      cursor: pointer;\n",
              "      display: none;\n",
              "      fill: #1967D2;\n",
              "      height: 32px;\n",
              "      padding: 0 0 0 0;\n",
              "      width: 32px;\n",
              "    }\n",
              "\n",
              "    .colab-df-convert:hover {\n",
              "      background-color: #E2EBFA;\n",
              "      box-shadow: 0px 1px 2px rgba(60, 64, 67, 0.3), 0px 1px 3px 1px rgba(60, 64, 67, 0.15);\n",
              "      fill: #174EA6;\n",
              "    }\n",
              "\n",
              "    [theme=dark] .colab-df-convert {\n",
              "      background-color: #3B4455;\n",
              "      fill: #D2E3FC;\n",
              "    }\n",
              "\n",
              "    [theme=dark] .colab-df-convert:hover {\n",
              "      background-color: #434B5C;\n",
              "      box-shadow: 0px 1px 3px 1px rgba(0, 0, 0, 0.15);\n",
              "      filter: drop-shadow(0px 1px 2px rgba(0, 0, 0, 0.3));\n",
              "      fill: #FFFFFF;\n",
              "    }\n",
              "  </style>\n",
              "\n",
              "      <script>\n",
              "        const buttonEl =\n",
              "          document.querySelector('#df-e260e88f-f40b-438a-840a-593818694362 button.colab-df-convert');\n",
              "        buttonEl.style.display =\n",
              "          google.colab.kernel.accessAllowed ? 'block' : 'none';\n",
              "\n",
              "        async function convertToInteractive(key) {\n",
              "          const element = document.querySelector('#df-e260e88f-f40b-438a-840a-593818694362');\n",
              "          const dataTable =\n",
              "            await google.colab.kernel.invokeFunction('convertToInteractive',\n",
              "                                                     [key], {});\n",
              "          if (!dataTable) return;\n",
              "\n",
              "          const docLinkHtml = 'Like what you see? Visit the ' +\n",
              "            '<a target=\"_blank\" href=https://colab.research.google.com/notebooks/data_table.ipynb>data table notebook</a>'\n",
              "            + ' to learn more about interactive tables.';\n",
              "          element.innerHTML = '';\n",
              "          dataTable['output_type'] = 'display_data';\n",
              "          await google.colab.output.renderOutput(dataTable, element);\n",
              "          const docLink = document.createElement('div');\n",
              "          docLink.innerHTML = docLinkHtml;\n",
              "          element.appendChild(docLink);\n",
              "        }\n",
              "      </script>\n",
              "    </div>\n",
              "  </div>\n",
              "  "
            ]
          },
          "metadata": {},
          "execution_count": 19
        }
      ]
    },
    {
      "cell_type": "code",
      "source": [
        "apiData.info()"
      ],
      "metadata": {
        "colab": {
          "base_uri": "https://localhost:8080/"
        },
        "id": "KL535XdVxGgV",
        "outputId": "79e52638-e087-48ec-c6f9-175f28ede038"
      },
      "execution_count": 20,
      "outputs": [
        {
          "output_type": "stream",
          "name": "stdout",
          "text": [
            "<class 'pandas.core.frame.DataFrame'>\n",
            "RangeIndex: 2327 entries, 0 to 2326\n",
            "Data columns (total 3 columns):\n",
            " #   Column          Non-Null Count  Dtype\n",
            "---  ------          --------------  -----\n",
            " 0   tweet_id        2327 non-null   int64\n",
            " 1   favorite_count  2327 non-null   int64\n",
            " 2   retweet_count   2327 non-null   int64\n",
            "dtypes: int64(3)\n",
            "memory usage: 54.7 KB\n"
          ]
        }
      ]
    },
    {
      "cell_type": "markdown",
      "source": [
        "###Check for missing rows"
      ],
      "metadata": {
        "id": "2y3Dg-RfxaJH"
      }
    },
    {
      "cell_type": "code",
      "source": [
        "len(dog_archive)-len(apiData)"
      ],
      "metadata": {
        "colab": {
          "base_uri": "https://localhost:8080/"
        },
        "id": "GhuQUZp7xZUK",
        "outputId": "d89b70b6-89e0-466a-9b45-028ab24c0c37"
      },
      "execution_count": 21,
      "outputs": [
        {
          "output_type": "execute_result",
          "data": {
            "text/plain": [
              "29"
            ]
          },
          "metadata": {},
          "execution_count": 21
        }
      ]
    },
    {
      "cell_type": "markdown",
      "source": [
        "Check for duplicates"
      ],
      "metadata": {
        "id": "rL1WWofNyEmT"
      }
    },
    {
      "cell_type": "code",
      "source": [
        "apiData['tweet_id'].duplicated().sum()"
      ],
      "metadata": {
        "colab": {
          "base_uri": "https://localhost:8080/"
        },
        "id": "UExCfPY5yIaV",
        "outputId": "35087617-be7c-4715-8337-23eb2b1b2481"
      },
      "execution_count": 22,
      "outputs": [
        {
          "output_type": "execute_result",
          "data": {
            "text/plain": [
              "0"
            ]
          },
          "metadata": {},
          "execution_count": 22
        }
      ]
    },
    {
      "cell_type": "markdown",
      "source": [
        "##Quality issues\n",
        "\n",
        "\n",
        "###Dog archive dataset\n",
        "* Timestamp is of object datatype\n",
        "* Name column has values that are 'None' instead of 'Nan' to show that they are null values.Some names with lowercase do not look like dog names.\n",
        "* 'None' is used here instead  of 'Nan' in the doggo, floofer, pupper, and puppo columns.\n",
        "* Some dog name has less than two letters as names\n",
        "* Most of retweeted_status_id, retweeeted_status_userId, retweeted_status_timestamp,in_reply_to_status_id and in_reply_to_user_id are null values\n",
        "\n",
        "###Twiter Prediction Image Dataset\n",
        "* Duplicate images\n",
        "* Missing rows in images dataset; There are 2075 rows instead of 2356\n",
        "* Names in p1,p2 and p3 contain underscores instead of spaces\n",
        "\n",
        "###Twitter Api data\n",
        "* Missing tweets compared to the archive\n",
        "\n",
        "##Tidiness Issues\n",
        "* The four columns doggo, floofer, pupper, and puppo seems vague. It can be as a single column as a category.\n",
        "* Dataframe can be merged into one.\n",
        "\n"
      ],
      "metadata": {
        "id": "oe8dxLhvypWZ"
      }
    },
    {
      "cell_type": "markdown",
      "source": [
        "#Cleaning Data"
      ],
      "metadata": {
        "id": "HZiELbnX7bYZ"
      }
    },
    {
      "cell_type": "markdown",
      "source": [
        "###Create copies of the dataframes"
      ],
      "metadata": {
        "id": "iRd2DIod7g9m"
      }
    },
    {
      "cell_type": "code",
      "source": [
        "dog_archive_clean = dog_archive.copy()\n",
        "dog_images_clean = dog_images.copy()\n",
        "apiData_clean = apiData.copy()"
      ],
      "metadata": {
        "id": "uNDsI0p77eMJ"
      },
      "execution_count": 23,
      "outputs": []
    },
    {
      "cell_type": "markdown",
      "source": [
        "##Tidiness Issues\n",
        "###Define\n",
        "**Tidiness issue 1: Merge the three dataframes into one**"
      ],
      "metadata": {
        "id": "Y5wjZkLd7-ff"
      }
    },
    {
      "cell_type": "markdown",
      "source": [
        "###Code"
      ],
      "metadata": {
        "id": "teffFp5B8XHy"
      }
    },
    {
      "cell_type": "code",
      "source": [
        "df_merge = [dog_archive_clean, dog_images_clean, apiData_clean]\n",
        "dogs = reduce(lambda left,right: pd.merge(left,right,on='tweet_id'), df_merge)"
      ],
      "metadata": {
        "id": "fG7MsyGN8bnr"
      },
      "execution_count": 24,
      "outputs": []
    },
    {
      "cell_type": "markdown",
      "source": [
        "###Test"
      ],
      "metadata": {
        "id": "-Pe1z5uM86yn"
      }
    },
    {
      "cell_type": "code",
      "source": [
        "dogs.head()"
      ],
      "metadata": {
        "colab": {
          "base_uri": "https://localhost:8080/",
          "height": 664
        },
        "id": "BshLlvf288mu",
        "outputId": "6611367e-e26e-499a-ff02-cc39c1aa8ae2"
      },
      "execution_count": 25,
      "outputs": [
        {
          "output_type": "execute_result",
          "data": {
            "text/plain": [
              "             tweet_id  in_reply_to_status_id  in_reply_to_user_id  \\\n",
              "0  892420643555336193                    NaN                  NaN   \n",
              "1  892177421306343426                    NaN                  NaN   \n",
              "2  891815181378084864                    NaN                  NaN   \n",
              "3  891689557279858688                    NaN                  NaN   \n",
              "4  891327558926688256                    NaN                  NaN   \n",
              "\n",
              "                   timestamp  \\\n",
              "0  2017-08-01 16:23:56 +0000   \n",
              "1  2017-08-01 00:17:27 +0000   \n",
              "2  2017-07-31 00:18:03 +0000   \n",
              "3  2017-07-30 15:58:51 +0000   \n",
              "4  2017-07-29 16:00:24 +0000   \n",
              "\n",
              "                                              source  \\\n",
              "0  <a href=\"http://twitter.com/download/iphone\" r...   \n",
              "1  <a href=\"http://twitter.com/download/iphone\" r...   \n",
              "2  <a href=\"http://twitter.com/download/iphone\" r...   \n",
              "3  <a href=\"http://twitter.com/download/iphone\" r...   \n",
              "4  <a href=\"http://twitter.com/download/iphone\" r...   \n",
              "\n",
              "                                                text  retweeted_status_id  \\\n",
              "0  This is Phineas. He's a mystical boy. Only eve...                  NaN   \n",
              "1  This is Tilly. She's just checking pup on you....                  NaN   \n",
              "2  This is Archie. He is a rare Norwegian Pouncin...                  NaN   \n",
              "3  This is Darla. She commenced a snooze mid meal...                  NaN   \n",
              "4  This is Franklin. He would like you to stop ca...                  NaN   \n",
              "\n",
              "   retweeted_status_user_id retweeted_status_timestamp  \\\n",
              "0                       NaN                        NaN   \n",
              "1                       NaN                        NaN   \n",
              "2                       NaN                        NaN   \n",
              "3                       NaN                        NaN   \n",
              "4                       NaN                        NaN   \n",
              "\n",
              "                                       expanded_urls  ...   p1_conf  p1_dog  \\\n",
              "0  https://twitter.com/dog_rates/status/892420643...  ...  0.097049   False   \n",
              "1  https://twitter.com/dog_rates/status/892177421...  ...  0.323581    True   \n",
              "2  https://twitter.com/dog_rates/status/891815181...  ...  0.716012    True   \n",
              "3  https://twitter.com/dog_rates/status/891689557...  ...  0.170278   False   \n",
              "4  https://twitter.com/dog_rates/status/891327558...  ...  0.555712    True   \n",
              "\n",
              "                   p2   p2_conf p2_dog                           p3   p3_conf  \\\n",
              "0               bagel  0.085851  False                       banana  0.076110   \n",
              "1            Pekinese  0.090647   True                     papillon  0.068957   \n",
              "2            malamute  0.078253   True                       kelpie  0.031379   \n",
              "3  Labrador_retriever  0.168086   True                      spatula  0.040836   \n",
              "4    English_springer  0.225770   True  German_short-haired_pointer  0.175219   \n",
              "\n",
              "  p3_dog  favorite_count retweet_count  \n",
              "0  False           33796          7009  \n",
              "1   True           29318          5301  \n",
              "2   True           22043          3481  \n",
              "3  False           36900          7217  \n",
              "4   True           35275          7760  \n",
              "\n",
              "[5 rows x 30 columns]"
            ],
            "text/html": [
              "\n",
              "  <div id=\"df-1469d532-ffb9-405b-aa1e-0780b374cc92\">\n",
              "    <div class=\"colab-df-container\">\n",
              "      <div>\n",
              "<style scoped>\n",
              "    .dataframe tbody tr th:only-of-type {\n",
              "        vertical-align: middle;\n",
              "    }\n",
              "\n",
              "    .dataframe tbody tr th {\n",
              "        vertical-align: top;\n",
              "    }\n",
              "\n",
              "    .dataframe thead th {\n",
              "        text-align: right;\n",
              "    }\n",
              "</style>\n",
              "<table border=\"1\" class=\"dataframe\">\n",
              "  <thead>\n",
              "    <tr style=\"text-align: right;\">\n",
              "      <th></th>\n",
              "      <th>tweet_id</th>\n",
              "      <th>in_reply_to_status_id</th>\n",
              "      <th>in_reply_to_user_id</th>\n",
              "      <th>timestamp</th>\n",
              "      <th>source</th>\n",
              "      <th>text</th>\n",
              "      <th>retweeted_status_id</th>\n",
              "      <th>retweeted_status_user_id</th>\n",
              "      <th>retweeted_status_timestamp</th>\n",
              "      <th>expanded_urls</th>\n",
              "      <th>...</th>\n",
              "      <th>p1_conf</th>\n",
              "      <th>p1_dog</th>\n",
              "      <th>p2</th>\n",
              "      <th>p2_conf</th>\n",
              "      <th>p2_dog</th>\n",
              "      <th>p3</th>\n",
              "      <th>p3_conf</th>\n",
              "      <th>p3_dog</th>\n",
              "      <th>favorite_count</th>\n",
              "      <th>retweet_count</th>\n",
              "    </tr>\n",
              "  </thead>\n",
              "  <tbody>\n",
              "    <tr>\n",
              "      <th>0</th>\n",
              "      <td>892420643555336193</td>\n",
              "      <td>NaN</td>\n",
              "      <td>NaN</td>\n",
              "      <td>2017-08-01 16:23:56 +0000</td>\n",
              "      <td>&lt;a href=\"http://twitter.com/download/iphone\" r...</td>\n",
              "      <td>This is Phineas. He's a mystical boy. Only eve...</td>\n",
              "      <td>NaN</td>\n",
              "      <td>NaN</td>\n",
              "      <td>NaN</td>\n",
              "      <td>https://twitter.com/dog_rates/status/892420643...</td>\n",
              "      <td>...</td>\n",
              "      <td>0.097049</td>\n",
              "      <td>False</td>\n",
              "      <td>bagel</td>\n",
              "      <td>0.085851</td>\n",
              "      <td>False</td>\n",
              "      <td>banana</td>\n",
              "      <td>0.076110</td>\n",
              "      <td>False</td>\n",
              "      <td>33796</td>\n",
              "      <td>7009</td>\n",
              "    </tr>\n",
              "    <tr>\n",
              "      <th>1</th>\n",
              "      <td>892177421306343426</td>\n",
              "      <td>NaN</td>\n",
              "      <td>NaN</td>\n",
              "      <td>2017-08-01 00:17:27 +0000</td>\n",
              "      <td>&lt;a href=\"http://twitter.com/download/iphone\" r...</td>\n",
              "      <td>This is Tilly. She's just checking pup on you....</td>\n",
              "      <td>NaN</td>\n",
              "      <td>NaN</td>\n",
              "      <td>NaN</td>\n",
              "      <td>https://twitter.com/dog_rates/status/892177421...</td>\n",
              "      <td>...</td>\n",
              "      <td>0.323581</td>\n",
              "      <td>True</td>\n",
              "      <td>Pekinese</td>\n",
              "      <td>0.090647</td>\n",
              "      <td>True</td>\n",
              "      <td>papillon</td>\n",
              "      <td>0.068957</td>\n",
              "      <td>True</td>\n",
              "      <td>29318</td>\n",
              "      <td>5301</td>\n",
              "    </tr>\n",
              "    <tr>\n",
              "      <th>2</th>\n",
              "      <td>891815181378084864</td>\n",
              "      <td>NaN</td>\n",
              "      <td>NaN</td>\n",
              "      <td>2017-07-31 00:18:03 +0000</td>\n",
              "      <td>&lt;a href=\"http://twitter.com/download/iphone\" r...</td>\n",
              "      <td>This is Archie. He is a rare Norwegian Pouncin...</td>\n",
              "      <td>NaN</td>\n",
              "      <td>NaN</td>\n",
              "      <td>NaN</td>\n",
              "      <td>https://twitter.com/dog_rates/status/891815181...</td>\n",
              "      <td>...</td>\n",
              "      <td>0.716012</td>\n",
              "      <td>True</td>\n",
              "      <td>malamute</td>\n",
              "      <td>0.078253</td>\n",
              "      <td>True</td>\n",
              "      <td>kelpie</td>\n",
              "      <td>0.031379</td>\n",
              "      <td>True</td>\n",
              "      <td>22043</td>\n",
              "      <td>3481</td>\n",
              "    </tr>\n",
              "    <tr>\n",
              "      <th>3</th>\n",
              "      <td>891689557279858688</td>\n",
              "      <td>NaN</td>\n",
              "      <td>NaN</td>\n",
              "      <td>2017-07-30 15:58:51 +0000</td>\n",
              "      <td>&lt;a href=\"http://twitter.com/download/iphone\" r...</td>\n",
              "      <td>This is Darla. She commenced a snooze mid meal...</td>\n",
              "      <td>NaN</td>\n",
              "      <td>NaN</td>\n",
              "      <td>NaN</td>\n",
              "      <td>https://twitter.com/dog_rates/status/891689557...</td>\n",
              "      <td>...</td>\n",
              "      <td>0.170278</td>\n",
              "      <td>False</td>\n",
              "      <td>Labrador_retriever</td>\n",
              "      <td>0.168086</td>\n",
              "      <td>True</td>\n",
              "      <td>spatula</td>\n",
              "      <td>0.040836</td>\n",
              "      <td>False</td>\n",
              "      <td>36900</td>\n",
              "      <td>7217</td>\n",
              "    </tr>\n",
              "    <tr>\n",
              "      <th>4</th>\n",
              "      <td>891327558926688256</td>\n",
              "      <td>NaN</td>\n",
              "      <td>NaN</td>\n",
              "      <td>2017-07-29 16:00:24 +0000</td>\n",
              "      <td>&lt;a href=\"http://twitter.com/download/iphone\" r...</td>\n",
              "      <td>This is Franklin. He would like you to stop ca...</td>\n",
              "      <td>NaN</td>\n",
              "      <td>NaN</td>\n",
              "      <td>NaN</td>\n",
              "      <td>https://twitter.com/dog_rates/status/891327558...</td>\n",
              "      <td>...</td>\n",
              "      <td>0.555712</td>\n",
              "      <td>True</td>\n",
              "      <td>English_springer</td>\n",
              "      <td>0.225770</td>\n",
              "      <td>True</td>\n",
              "      <td>German_short-haired_pointer</td>\n",
              "      <td>0.175219</td>\n",
              "      <td>True</td>\n",
              "      <td>35275</td>\n",
              "      <td>7760</td>\n",
              "    </tr>\n",
              "  </tbody>\n",
              "</table>\n",
              "<p>5 rows × 30 columns</p>\n",
              "</div>\n",
              "      <button class=\"colab-df-convert\" onclick=\"convertToInteractive('df-1469d532-ffb9-405b-aa1e-0780b374cc92')\"\n",
              "              title=\"Convert this dataframe to an interactive table.\"\n",
              "              style=\"display:none;\">\n",
              "        \n",
              "  <svg xmlns=\"http://www.w3.org/2000/svg\" height=\"24px\"viewBox=\"0 0 24 24\"\n",
              "       width=\"24px\">\n",
              "    <path d=\"M0 0h24v24H0V0z\" fill=\"none\"/>\n",
              "    <path d=\"M18.56 5.44l.94 2.06.94-2.06 2.06-.94-2.06-.94-.94-2.06-.94 2.06-2.06.94zm-11 1L8.5 8.5l.94-2.06 2.06-.94-2.06-.94L8.5 2.5l-.94 2.06-2.06.94zm10 10l.94 2.06.94-2.06 2.06-.94-2.06-.94-.94-2.06-.94 2.06-2.06.94z\"/><path d=\"M17.41 7.96l-1.37-1.37c-.4-.4-.92-.59-1.43-.59-.52 0-1.04.2-1.43.59L10.3 9.45l-7.72 7.72c-.78.78-.78 2.05 0 2.83L4 21.41c.39.39.9.59 1.41.59.51 0 1.02-.2 1.41-.59l7.78-7.78 2.81-2.81c.8-.78.8-2.07 0-2.86zM5.41 20L4 18.59l7.72-7.72 1.47 1.35L5.41 20z\"/>\n",
              "  </svg>\n",
              "      </button>\n",
              "      \n",
              "  <style>\n",
              "    .colab-df-container {\n",
              "      display:flex;\n",
              "      flex-wrap:wrap;\n",
              "      gap: 12px;\n",
              "    }\n",
              "\n",
              "    .colab-df-convert {\n",
              "      background-color: #E8F0FE;\n",
              "      border: none;\n",
              "      border-radius: 50%;\n",
              "      cursor: pointer;\n",
              "      display: none;\n",
              "      fill: #1967D2;\n",
              "      height: 32px;\n",
              "      padding: 0 0 0 0;\n",
              "      width: 32px;\n",
              "    }\n",
              "\n",
              "    .colab-df-convert:hover {\n",
              "      background-color: #E2EBFA;\n",
              "      box-shadow: 0px 1px 2px rgba(60, 64, 67, 0.3), 0px 1px 3px 1px rgba(60, 64, 67, 0.15);\n",
              "      fill: #174EA6;\n",
              "    }\n",
              "\n",
              "    [theme=dark] .colab-df-convert {\n",
              "      background-color: #3B4455;\n",
              "      fill: #D2E3FC;\n",
              "    }\n",
              "\n",
              "    [theme=dark] .colab-df-convert:hover {\n",
              "      background-color: #434B5C;\n",
              "      box-shadow: 0px 1px 3px 1px rgba(0, 0, 0, 0.15);\n",
              "      filter: drop-shadow(0px 1px 2px rgba(0, 0, 0, 0.3));\n",
              "      fill: #FFFFFF;\n",
              "    }\n",
              "  </style>\n",
              "\n",
              "      <script>\n",
              "        const buttonEl =\n",
              "          document.querySelector('#df-1469d532-ffb9-405b-aa1e-0780b374cc92 button.colab-df-convert');\n",
              "        buttonEl.style.display =\n",
              "          google.colab.kernel.accessAllowed ? 'block' : 'none';\n",
              "\n",
              "        async function convertToInteractive(key) {\n",
              "          const element = document.querySelector('#df-1469d532-ffb9-405b-aa1e-0780b374cc92');\n",
              "          const dataTable =\n",
              "            await google.colab.kernel.invokeFunction('convertToInteractive',\n",
              "                                                     [key], {});\n",
              "          if (!dataTable) return;\n",
              "\n",
              "          const docLinkHtml = 'Like what you see? Visit the ' +\n",
              "            '<a target=\"_blank\" href=https://colab.research.google.com/notebooks/data_table.ipynb>data table notebook</a>'\n",
              "            + ' to learn more about interactive tables.';\n",
              "          element.innerHTML = '';\n",
              "          dataTable['output_type'] = 'display_data';\n",
              "          await google.colab.output.renderOutput(dataTable, element);\n",
              "          const docLink = document.createElement('div');\n",
              "          docLink.innerHTML = docLinkHtml;\n",
              "          element.appendChild(docLink);\n",
              "        }\n",
              "      </script>\n",
              "    </div>\n",
              "  </div>\n",
              "  "
            ]
          },
          "metadata": {},
          "execution_count": 25
        }
      ]
    },
    {
      "cell_type": "code",
      "source": [
        "dogs.info()"
      ],
      "metadata": {
        "colab": {
          "base_uri": "https://localhost:8080/"
        },
        "id": "4Y8wJWrf9DGL",
        "outputId": "08432d15-1c45-4cfb-8717-c97198a3e0c3"
      },
      "execution_count": 26,
      "outputs": [
        {
          "output_type": "stream",
          "name": "stdout",
          "text": [
            "<class 'pandas.core.frame.DataFrame'>\n",
            "Int64Index: 2057 entries, 0 to 2056\n",
            "Data columns (total 30 columns):\n",
            " #   Column                      Non-Null Count  Dtype  \n",
            "---  ------                      --------------  -----  \n",
            " 0   tweet_id                    2057 non-null   int64  \n",
            " 1   in_reply_to_status_id       23 non-null     float64\n",
            " 2   in_reply_to_user_id         23 non-null     float64\n",
            " 3   timestamp                   2057 non-null   object \n",
            " 4   source                      2057 non-null   object \n",
            " 5   text                        2057 non-null   object \n",
            " 6   retweeted_status_id         71 non-null     float64\n",
            " 7   retweeted_status_user_id    71 non-null     float64\n",
            " 8   retweeted_status_timestamp  71 non-null     object \n",
            " 9   expanded_urls               2057 non-null   object \n",
            " 10  rating_numerator            2057 non-null   int64  \n",
            " 11  rating_denominator          2057 non-null   int64  \n",
            " 12  name                        2057 non-null   object \n",
            " 13  doggo                       2057 non-null   object \n",
            " 14  floofer                     2057 non-null   object \n",
            " 15  pupper                      2057 non-null   object \n",
            " 16  puppo                       2057 non-null   object \n",
            " 17  jpg_url                     2057 non-null   object \n",
            " 18  img_num                     2057 non-null   int64  \n",
            " 19  p1                          2057 non-null   object \n",
            " 20  p1_conf                     2057 non-null   float64\n",
            " 21  p1_dog                      2057 non-null   bool   \n",
            " 22  p2                          2057 non-null   object \n",
            " 23  p2_conf                     2057 non-null   float64\n",
            " 24  p2_dog                      2057 non-null   bool   \n",
            " 25  p3                          2057 non-null   object \n",
            " 26  p3_conf                     2057 non-null   float64\n",
            " 27  p3_dog                      2057 non-null   bool   \n",
            " 28  favorite_count              2057 non-null   int64  \n",
            " 29  retweet_count               2057 non-null   int64  \n",
            "dtypes: bool(3), float64(7), int64(6), object(14)\n",
            "memory usage: 456.0+ KB\n"
          ]
        }
      ]
    },
    {
      "cell_type": "markdown",
      "source": [
        "###Define\n",
        "**Tidiness issue 2: Categorizes the four columns doggo,etc which are dog stages into one column.**"
      ],
      "metadata": {
        "id": "AHXE1JUI9ZHb"
      }
    },
    {
      "cell_type": "markdown",
      "source": [
        "###Code"
      ],
      "metadata": {
        "id": "4dyNOPqu90Us"
      }
    },
    {
      "cell_type": "code",
      "source": [
        "MELTS_COLUMNS = ['doggo', 'floofer', 'pupper', 'puppo']\n",
        "STAY_COLUMNS = [x for x in dogs.columns.tolist() if x not in MELTS_COLUMNS]\n",
        "\n",
        "# melt the the columns into values\n",
        "dogs = pd.melt(dogs, id_vars = STAY_COLUMNS, value_vars = MELTS_COLUMNS, \n",
        "                         var_name = 'stages', value_name = 'dog_stage')\n",
        "# delete column 'stages'\n",
        "dogs = dogs.drop('stages', 1)\n",
        "\n",
        "# sort by dog_stage then drop duplicated based on tweet_id except the last occurrence\n",
        "dogs = dogs.sort_values('dog_stage').drop_duplicates(subset='tweet_id', keep='last')\n",
        "\n",
        "# replace 'None' with NaNs\n",
        "dogs['dog_stage'].replace('None', np.nan, inplace = True)\n",
        "\n",
        "# change dtype to categorical\n",
        "dogs['dog_stage'] = dogs['dog_stage'].astype(\"category\")"
      ],
      "metadata": {
        "colab": {
          "base_uri": "https://localhost:8080/"
        },
        "id": "5hG5HqEw92kb",
        "outputId": "ba2298a0-c84d-489e-f6c5-02aeaf1e0ef7"
      },
      "execution_count": 27,
      "outputs": [
        {
          "output_type": "stream",
          "name": "stderr",
          "text": [
            "/usr/local/lib/python3.7/dist-packages/ipykernel_launcher.py:8: FutureWarning: In a future version of pandas all arguments of DataFrame.drop except for the argument 'labels' will be keyword-only\n",
            "  \n"
          ]
        }
      ]
    },
    {
      "cell_type": "code",
      "source": [
        "dogs['dog_stage'].value_counts()"
      ],
      "metadata": {
        "colab": {
          "base_uri": "https://localhost:8080/"
        },
        "id": "BwVxh7Up_fwG",
        "outputId": "38f098ff-ae5e-454f-bbe8-530bb28a8009"
      },
      "execution_count": 28,
      "outputs": [
        {
          "output_type": "execute_result",
          "data": {
            "text/plain": [
              "pupper     221\n",
              "doggo       65\n",
              "puppo       24\n",
              "floofer      8\n",
              "Name: dog_stage, dtype: int64"
            ]
          },
          "metadata": {},
          "execution_count": 28
        }
      ]
    },
    {
      "cell_type": "code",
      "source": [
        "dogs.info()"
      ],
      "metadata": {
        "colab": {
          "base_uri": "https://localhost:8080/"
        },
        "id": "6Ml7N_i__zo6",
        "outputId": "2b290ed5-0281-408f-f0d4-d81da12aef8f"
      },
      "execution_count": 29,
      "outputs": [
        {
          "output_type": "stream",
          "name": "stdout",
          "text": [
            "<class 'pandas.core.frame.DataFrame'>\n",
            "Int64Index: 2057 entries, 1980 to 6941\n",
            "Data columns (total 27 columns):\n",
            " #   Column                      Non-Null Count  Dtype   \n",
            "---  ------                      --------------  -----   \n",
            " 0   tweet_id                    2057 non-null   int64   \n",
            " 1   in_reply_to_status_id       23 non-null     float64 \n",
            " 2   in_reply_to_user_id         23 non-null     float64 \n",
            " 3   timestamp                   2057 non-null   object  \n",
            " 4   source                      2057 non-null   object  \n",
            " 5   text                        2057 non-null   object  \n",
            " 6   retweeted_status_id         71 non-null     float64 \n",
            " 7   retweeted_status_user_id    71 non-null     float64 \n",
            " 8   retweeted_status_timestamp  71 non-null     object  \n",
            " 9   expanded_urls               2057 non-null   object  \n",
            " 10  rating_numerator            2057 non-null   int64   \n",
            " 11  rating_denominator          2057 non-null   int64   \n",
            " 12  name                        2057 non-null   object  \n",
            " 13  jpg_url                     2057 non-null   object  \n",
            " 14  img_num                     2057 non-null   int64   \n",
            " 15  p1                          2057 non-null   object  \n",
            " 16  p1_conf                     2057 non-null   float64 \n",
            " 17  p1_dog                      2057 non-null   bool    \n",
            " 18  p2                          2057 non-null   object  \n",
            " 19  p2_conf                     2057 non-null   float64 \n",
            " 20  p2_dog                      2057 non-null   bool    \n",
            " 21  p3                          2057 non-null   object  \n",
            " 22  p3_conf                     2057 non-null   float64 \n",
            " 23  p3_dog                      2057 non-null   bool    \n",
            " 24  favorite_count              2057 non-null   int64   \n",
            " 25  retweet_count               2057 non-null   int64   \n",
            " 26  dog_stage                   318 non-null    category\n",
            "dtypes: bool(3), category(1), float64(7), int64(6), object(10)\n",
            "memory usage: 393.9+ KB\n"
          ]
        }
      ]
    },
    {
      "cell_type": "markdown",
      "source": [
        "###Define\n",
        "**Drop duplicate images from the table**"
      ],
      "metadata": {
        "id": "8zLlxir6_8lC"
      }
    },
    {
      "cell_type": "markdown",
      "source": [
        "###Code"
      ],
      "metadata": {
        "id": "o4RfZL1UDqRh"
      }
    },
    {
      "cell_type": "code",
      "source": [
        "dogs['jpg_url'].duplicated().sum()"
      ],
      "metadata": {
        "colab": {
          "base_uri": "https://localhost:8080/"
        },
        "id": "-REWC_JJC6kx",
        "outputId": "5307ad79-c4e6-4888-c44e-0cf7e27ab7e8"
      },
      "execution_count": 30,
      "outputs": [
        {
          "output_type": "execute_result",
          "data": {
            "text/plain": [
              "59"
            ]
          },
          "metadata": {},
          "execution_count": 30
        }
      ]
    },
    {
      "cell_type": "code",
      "source": [
        "dogs.drop_duplicates(subset=['jpg_url'], keep='last', inplace=True)"
      ],
      "metadata": {
        "id": "rxtQGUARDDPQ"
      },
      "execution_count": 31,
      "outputs": []
    },
    {
      "cell_type": "markdown",
      "source": [
        "###Test"
      ],
      "metadata": {
        "id": "-lK579jIDL3o"
      }
    },
    {
      "cell_type": "code",
      "source": [
        "dogs['jpg_url'].duplicated().sum()"
      ],
      "metadata": {
        "colab": {
          "base_uri": "https://localhost:8080/"
        },
        "id": "mAIn7CyDDN9g",
        "outputId": "5ce27cf0-b98d-49dd-cb96-61b1c5f93a8f"
      },
      "execution_count": 32,
      "outputs": [
        {
          "output_type": "execute_result",
          "data": {
            "text/plain": [
              "0"
            ]
          },
          "metadata": {},
          "execution_count": 32
        }
      ]
    },
    {
      "cell_type": "markdown",
      "source": [
        "###Define\n",
        "**Replace the underscore issue in columns p1,p2 and p3 with space**"
      ],
      "metadata": {
        "id": "G2mOsZzIDTqr"
      }
    },
    {
      "cell_type": "markdown",
      "source": [
        "###Code"
      ],
      "metadata": {
        "id": "tQ6DAAaIDtjP"
      }
    },
    {
      "cell_type": "code",
      "source": [
        "dogs['p1'].replace('_', ' ', regex=True, inplace = True)\n",
        "dogs['p2'].replace('_', ' ', regex=True, inplace = True)\n",
        "dogs['p3'].replace('_', ' ', regex=True, inplace = True)"
      ],
      "metadata": {
        "id": "ZcfuodFCDlBn"
      },
      "execution_count": 33,
      "outputs": []
    },
    {
      "cell_type": "markdown",
      "source": [
        "###Test"
      ],
      "metadata": {
        "id": "YI8_kzMfGU3D"
      }
    },
    {
      "cell_type": "code",
      "source": [
        "dogs['p1']"
      ],
      "metadata": {
        "colab": {
          "base_uri": "https://localhost:8080/"
        },
        "id": "vTKz3Hb7GXjz",
        "outputId": "2e4bdb32-9cbf-452a-815f-5642e35e57cb"
      },
      "execution_count": 34,
      "outputs": [
        {
          "output_type": "execute_result",
          "data": {
            "text/plain": [
              "1980            Rottweiler\n",
              "1979             porcupine\n",
              "1978                 goose\n",
              "1977    Labrador retriever\n",
              "1976       Tibetan terrier\n",
              "               ...        \n",
              "6678    Labrador retriever\n",
              "6478            Eskimo dog\n",
              "6476            Rottweiler\n",
              "6185      golden retriever\n",
              "6941    Labrador retriever\n",
              "Name: p1, Length: 1998, dtype: object"
            ]
          },
          "metadata": {},
          "execution_count": 34
        }
      ]
    },
    {
      "cell_type": "code",
      "source": [
        "dogs['p2']"
      ],
      "metadata": {
        "colab": {
          "base_uri": "https://localhost:8080/"
        },
        "id": "8pWgIDKsGdiG",
        "outputId": "f0c04443-833a-40c7-b502-fb4b66a7bba6"
      },
      "execution_count": 35,
      "outputs": [
        {
          "output_type": "execute_result",
          "data": {
            "text/plain": [
              "1980          miniature pinscher\n",
              "1979                  bath towel\n",
              "1978                       drake\n",
              "1977              French bulldog\n",
              "1976               Irish terrier\n",
              "                  ...           \n",
              "6678            golden retriever\n",
              "6478              Siberian husky\n",
              "6476             Tibetan mastiff\n",
              "6185          Labrador retriever\n",
              "6941    Chesapeake Bay retriever\n",
              "Name: p2, Length: 1998, dtype: object"
            ]
          },
          "metadata": {},
          "execution_count": 35
        }
      ]
    },
    {
      "cell_type": "code",
      "source": [
        "dogs['p3']"
      ],
      "metadata": {
        "colab": {
          "base_uri": "https://localhost:8080/"
        },
        "id": "EXUaC-NTGgMy",
        "outputId": "2aea9ca3-1fa4-401f-9f66-c1c3ecd43e9b"
      },
      "execution_count": 36,
      "outputs": [
        {
          "output_type": "execute_result",
          "data": {
            "text/plain": [
              "1980      black-and-tan coonhound\n",
              "1979                       badger\n",
              "1978                          hen\n",
              "1977    Staffordshire bullterrier\n",
              "1976            Yorkshire terrier\n",
              "                  ...            \n",
              "6678                    Chihuahua\n",
              "6478                     malamute\n",
              "6476      black-and-tan coonhound\n",
              "6185                      redbone\n",
              "6941             golden retriever\n",
              "Name: p3, Length: 1998, dtype: object"
            ]
          },
          "metadata": {},
          "execution_count": 36
        }
      ]
    },
    {
      "cell_type": "markdown",
      "source": [
        "###Define\n",
        "**Drop the retweeted_status_id, retweeeted_status_userId, retweeted_status_timestamp,in_reply_to_status_id and in_reply_to_user_id**"
      ],
      "metadata": {
        "id": "yulAByIcIdXj"
      }
    },
    {
      "cell_type": "markdown",
      "source": [
        "###Code"
      ],
      "metadata": {
        "id": "V0CMsaoFIvzt"
      }
    },
    {
      "cell_type": "code",
      "source": [
        "dogs = dogs.drop(['retweeted_status_id', \n",
        "                        'retweeted_status_user_id', \n",
        "                        'retweeted_status_timestamp','in_reply_to_status_id', \n",
        "              'in_reply_to_user_id'], \n",
        "                       axis=1)"
      ],
      "metadata": {
        "id": "UKre_9TkIxSw"
      },
      "execution_count": 37,
      "outputs": []
    },
    {
      "cell_type": "markdown",
      "source": [
        "###Test"
      ],
      "metadata": {
        "id": "lnlWV5oPJOCy"
      }
    },
    {
      "cell_type": "code",
      "source": [
        "dogs.columns"
      ],
      "metadata": {
        "colab": {
          "base_uri": "https://localhost:8080/"
        },
        "id": "tWfT8sDyJPy3",
        "outputId": "0fe77532-0599-42de-ed62-83f00c98d103"
      },
      "execution_count": 39,
      "outputs": [
        {
          "output_type": "execute_result",
          "data": {
            "text/plain": [
              "Index(['tweet_id', 'timestamp', 'source', 'text', 'expanded_urls',\n",
              "       'rating_numerator', 'rating_denominator', 'name', 'jpg_url', 'img_num',\n",
              "       'p1', 'p1_conf', 'p1_dog', 'p2', 'p2_conf', 'p2_dog', 'p3', 'p3_conf',\n",
              "       'p3_dog', 'favorite_count', 'retweet_count', 'dog_stage'],\n",
              "      dtype='object')"
            ]
          },
          "metadata": {},
          "execution_count": 39
        }
      ]
    },
    {
      "cell_type": "markdown",
      "source": [
        "###Define\n",
        "**Convert Datatime stamp from string to datetime format**"
      ],
      "metadata": {
        "id": "T9kxBV-xJWNk"
      }
    },
    {
      "cell_type": "markdown",
      "source": [
        "###Code"
      ],
      "metadata": {
        "id": "uFy9GkKEJePK"
      }
    },
    {
      "cell_type": "code",
      "source": [
        "dogs['timestamp'] = pd.to_datetime(dogs['timestamp'])"
      ],
      "metadata": {
        "id": "1ie-xSk8Jf6h"
      },
      "execution_count": 40,
      "outputs": []
    },
    {
      "cell_type": "markdown",
      "source": [
        "###Test"
      ],
      "metadata": {
        "id": "XWGqfG_yJn6f"
      }
    },
    {
      "cell_type": "code",
      "source": [
        "dogs['timestamp'].dtype"
      ],
      "metadata": {
        "colab": {
          "base_uri": "https://localhost:8080/"
        },
        "id": "OQrGlLWrJprp",
        "outputId": "c2f61de2-207e-4996-a042-ca631ebeb5d8"
      },
      "execution_count": 41,
      "outputs": [
        {
          "output_type": "execute_result",
          "data": {
            "text/plain": [
              "datetime64[ns, UTC]"
            ]
          },
          "metadata": {},
          "execution_count": 41
        }
      ]
    },
    {
      "cell_type": "markdown",
      "source": [
        "###Define\n",
        "**Solve the issues with name column**"
      ],
      "metadata": {
        "id": "z0zLRjhDKzTD"
      }
    },
    {
      "cell_type": "markdown",
      "source": [
        "###Test"
      ],
      "metadata": {
        "id": "wNXksazsK6PS"
      }
    },
    {
      "cell_type": "code",
      "source": [
        "lowercase = []\n",
        "for names in dogs['name']:\n",
        "    if names[0].islower() and names not in lowercase:\n",
        "        lowercase.append(names)\n",
        "print(lowercase)"
      ],
      "metadata": {
        "colab": {
          "base_uri": "https://localhost:8080/"
        },
        "id": "ZW4xPtJ_K88D",
        "outputId": "2bfece6f-46db-4e09-ea83-5fd1fdef0c3d"
      },
      "execution_count": 42,
      "outputs": [
        {
          "output_type": "stream",
          "name": "stdout",
          "text": [
            "['a', 'an', 'quite', 'the', 'such', 'getting', 'actually', 'infuriating', 'very', 'light', 'space', 'just', 'by', 'officially', 'incredibly', 'one', 'my', 'this', 'unacceptable', 'not', 'his', 'all']\n"
          ]
        }
      ]
    },
    {
      "cell_type": "code",
      "source": [
        "#Replace the lowercase names with 'Nan'\n",
        "dogs['name'].replace(lowercase, np.nan, inplace = True)\n",
        "\n",
        "# replace 'None' with NaN\n",
        "dogs['name'].replace('None', np.nan, inplace = True)"
      ],
      "metadata": {
        "id": "MXguu0lULRqO"
      },
      "execution_count": 43,
      "outputs": []
    },
    {
      "cell_type": "markdown",
      "source": [
        "###Test"
      ],
      "metadata": {
        "id": "isjCYoxqLl9U"
      }
    },
    {
      "cell_type": "code",
      "source": [
        "lowercase[0] in dogs['name']"
      ],
      "metadata": {
        "colab": {
          "base_uri": "https://localhost:8080/"
        },
        "id": "2NiU6KQ3Lnes",
        "outputId": "6241c5ae-e104-4a8c-9e74-add59df55800"
      },
      "execution_count": 44,
      "outputs": [
        {
          "output_type": "execute_result",
          "data": {
            "text/plain": [
              "False"
            ]
          },
          "metadata": {},
          "execution_count": 44
        }
      ]
    },
    {
      "cell_type": "markdown",
      "source": [
        "###Define\n",
        "**Fix issues with the ratings**"
      ],
      "metadata": {
        "id": "tprvu2lbMW9U"
      }
    },
    {
      "cell_type": "markdown",
      "source": [
        "###Code"
      ],
      "metadata": {
        "id": "U7ylhp-PQARI"
      }
    },
    {
      "cell_type": "markdown",
      "source": [
        "Print issue where the rating is in decimal"
      ],
      "metadata": {
        "id": "bJS1ojrMQPQJ"
      }
    },
    {
      "cell_type": "code",
      "source": [
        "decimal = dogs[dogs['text'].str.contains(r\"(\\d+\\.\\d*\\/\\d+)\")]\n",
        "decimal[['tweet_id', 'rating_numerator', 'text']].values"
      ],
      "metadata": {
        "colab": {
          "base_uri": "https://localhost:8080/"
        },
        "id": "exbGpVqyQCHq",
        "outputId": "f1b2600f-8d6b-4383-beb8-29bcb503a207"
      },
      "execution_count": 45,
      "outputs": [
        {
          "output_type": "stream",
          "name": "stderr",
          "text": [
            "/usr/local/lib/python3.7/dist-packages/ipykernel_launcher.py:1: UserWarning: This pattern has match groups. To actually get the groups, use str.extract.\n",
            "  \"\"\"Entry point for launching an IPython kernel.\n"
          ]
        },
        {
          "output_type": "execute_result",
          "data": {
            "text/plain": [
              "array([[883482846933004288, 5,\n",
              "        'This is Bella. She hopes her smile made you smile. If not, she is also offering you her favorite monkey. 13.5/10 https://t.co/qjrljjt948'],\n",
              "       [680494726643068929, 26,\n",
              "        'Here we have uncovered an entire battalion of holiday puppers. Average of 11.26/10 https://t.co/eNm2S6p9BD'],\n",
              "       [786709082849828864, 75,\n",
              "        \"This is Logan, the Chow who lived. He solemnly swears he's up to lots of good. H*ckin magical af 9.75/10 https://t.co/yBO5wuqaPS\"],\n",
              "       [778027034220126208, 27,\n",
              "        \"This is Sophie. She's a Jubilant Bush Pupper. Super h*ckin rare. Appears at random just to smile at the locals. 11.27/10 would smile back https://t.co/QFaUiIHxHq\"]],\n",
              "      dtype=object)"
            ]
          },
          "metadata": {},
          "execution_count": 45
        }
      ]
    },
    {
      "cell_type": "code",
      "source": [
        "ratings_with_decimals_text = []\n",
        "ratings_with_decimals_index = []\n",
        "ratings_with_decimals = []\n",
        "\n",
        "for i, text in dogs['text'].iteritems():\n",
        "    if bool(re.search('\\d+\\.\\d+\\/\\d+', text)):\n",
        "        ratings_with_decimals_text.append(text)\n",
        "        ratings_with_decimals_index.append(i)\n",
        "        ratings_with_decimals.append(re.search('\\d+\\.\\d+', text).group())\n",
        "# replace incorrect rating with correct decimal rating in numerator from text\n",
        "for i in range(len(ratings_with_decimals)):\n",
        "    dogs.loc[ratings_with_decimals_index[i],'rating_numerator'] = float(ratings_with_decimals[i])\n",
        "# add new 'rating' column by dividing rating_numerator by rating_denominator\n",
        "dogs['rating'] = dogs['rating_numerator'] / dogs['rating_denominator']"
      ],
      "metadata": {
        "id": "Co3haWetQVpm"
      },
      "execution_count": 46,
      "outputs": []
    },
    {
      "cell_type": "markdown",
      "source": [
        "###Test"
      ],
      "metadata": {
        "id": "0B1yILEWQyNr"
      }
    },
    {
      "cell_type": "code",
      "source": [
        "decimal = dogs[dogs['text'].str.contains(r\"(\\d+\\.\\d*\\/\\d+)\")]\n",
        "dogs[['tweet_id', 'rating_numerator', 'text']].values"
      ],
      "metadata": {
        "colab": {
          "base_uri": "https://localhost:8080/"
        },
        "id": "gEHp9gpsQ3FA",
        "outputId": "0f3ce943-c36d-4ca0-9c05-05873a352945"
      },
      "execution_count": 47,
      "outputs": [
        {
          "output_type": "stream",
          "name": "stderr",
          "text": [
            "/usr/local/lib/python3.7/dist-packages/ipykernel_launcher.py:1: UserWarning: This pattern has match groups. To actually get the groups, use str.extract.\n",
            "  \"\"\"Entry point for launching an IPython kernel.\n"
          ]
        },
        {
          "output_type": "execute_result",
          "data": {
            "text/plain": [
              "array([[667435689202614272, 12.0,\n",
              "        'Ermergerd 12/10 https://t.co/PQni2sjPsm'],\n",
              "       [667437278097252352, 10.0,\n",
              "        'Never seen this breed before. Very pointy pup. Hurts when you cuddle. Still cute tho. 10/10 https://t.co/97HuBrVuOx'],\n",
              "       [667443425659232256, 6.0,\n",
              "        'Exotic dog here. Long neck. Weird paws. Obsessed with bread. Waddles. Flies sometimes (wow!). Very happy dog. 6/10 https://t.co/rqO4I3nf2N'],\n",
              "       ...,\n",
              "       [825535076884762624, 14.0,\n",
              "        \"Here's a very loving and accepting puppo. Appears to have read her Constitution well. 14/10 would pat head approvingly https://t.co/6ao80wIpV1\"],\n",
              "       [889531135344209921, 13.0,\n",
              "        \"This is Stuart. He's sporting his favorite fanny pack. Secretly filled with bones only. 13/10 puppared puppo #BarkWeek https://t.co/y70o6h3isq\"],\n",
              "       [751132876104687617, 10.0,\n",
              "        \"This is Cooper. He's just so damn happy. 10/10 what's your secret puppo? https://t.co/yToDwVXEpA\"]],\n",
              "      dtype=object)"
            ]
          },
          "metadata": {},
          "execution_count": 47
        }
      ]
    },
    {
      "cell_type": "code",
      "source": [
        "dogs['rating']"
      ],
      "metadata": {
        "colab": {
          "base_uri": "https://localhost:8080/"
        },
        "id": "W8dN49aaRECI",
        "outputId": "23959b0d-8d62-40a1-e5c1-cef7c4ed621a"
      },
      "execution_count": 48,
      "outputs": [
        {
          "output_type": "execute_result",
          "data": {
            "text/plain": [
              "1980    1.2\n",
              "1979    1.0\n",
              "1978    0.6\n",
              "1977    1.1\n",
              "1976    0.7\n",
              "       ... \n",
              "6678    1.2\n",
              "6478    1.2\n",
              "6476    1.4\n",
              "6185    1.3\n",
              "6941    1.0\n",
              "Name: rating, Length: 1998, dtype: float64"
            ]
          },
          "metadata": {},
          "execution_count": 48
        }
      ]
    },
    {
      "cell_type": "markdown",
      "source": [
        "###Define\n",
        "**Remove other columns which are uneccessary**"
      ],
      "metadata": {
        "id": "LW4b-0rPQ0YS"
      }
    },
    {
      "cell_type": "code",
      "source": [
        "dogs.drop(['source','img_num'], axis=1, inplace=True)"
      ],
      "metadata": {
        "id": "JTWOmt1_RUBo"
      },
      "execution_count": 49,
      "outputs": []
    },
    {
      "cell_type": "markdown",
      "source": [
        "###Test"
      ],
      "metadata": {
        "id": "i9nMX-TGRiTX"
      }
    },
    {
      "cell_type": "code",
      "source": [
        "dogs.info()"
      ],
      "metadata": {
        "colab": {
          "base_uri": "https://localhost:8080/"
        },
        "id": "XZxzStrjRcdN",
        "outputId": "73092df2-c0b5-4dd2-8e6e-4b2f4fd20fa2"
      },
      "execution_count": 50,
      "outputs": [
        {
          "output_type": "stream",
          "name": "stdout",
          "text": [
            "<class 'pandas.core.frame.DataFrame'>\n",
            "Int64Index: 1998 entries, 1980 to 6941\n",
            "Data columns (total 21 columns):\n",
            " #   Column              Non-Null Count  Dtype              \n",
            "---  ------              --------------  -----              \n",
            " 0   tweet_id            1998 non-null   int64              \n",
            " 1   timestamp           1998 non-null   datetime64[ns, UTC]\n",
            " 2   text                1998 non-null   object             \n",
            " 3   expanded_urls       1998 non-null   object             \n",
            " 4   rating_numerator    1998 non-null   float64            \n",
            " 5   rating_denominator  1998 non-null   int64              \n",
            " 6   name                1343 non-null   object             \n",
            " 7   jpg_url             1998 non-null   object             \n",
            " 8   p1                  1998 non-null   object             \n",
            " 9   p1_conf             1998 non-null   float64            \n",
            " 10  p1_dog              1998 non-null   bool               \n",
            " 11  p2                  1998 non-null   object             \n",
            " 12  p2_conf             1998 non-null   float64            \n",
            " 13  p2_dog              1998 non-null   bool               \n",
            " 14  p3                  1998 non-null   object             \n",
            " 15  p3_conf             1998 non-null   float64            \n",
            " 16  p3_dog              1998 non-null   bool               \n",
            " 17  favorite_count      1998 non-null   int64              \n",
            " 18  retweet_count       1998 non-null   int64              \n",
            " 19  dog_stage           308 non-null    category           \n",
            " 20  rating              1998 non-null   float64            \n",
            "dtypes: bool(3), category(1), datetime64[ns, UTC](1), float64(5), int64(4), object(7)\n",
            "memory usage: 353.5+ KB\n"
          ]
        }
      ]
    },
    {
      "cell_type": "markdown",
      "source": [
        "####Save this clean dataframe to a csv file"
      ],
      "metadata": {
        "id": "tNGanO-LRtW6"
      }
    },
    {
      "cell_type": "code",
      "source": [
        "dogs.to_csv('twitter_archive_master.csv')"
      ],
      "metadata": {
        "id": "O0C5D1EAR05q"
      },
      "execution_count": 53,
      "outputs": []
    },
    {
      "cell_type": "markdown",
      "source": [
        "#Visualization"
      ],
      "metadata": {
        "id": "zLLEmHNcTPTE"
      }
    },
    {
      "cell_type": "code",
      "source": [
        "df_dogs = pd.read_csv('twitter_archive_master.csv')"
      ],
      "metadata": {
        "id": "YBsHKrFlTR4T"
      },
      "execution_count": 54,
      "outputs": []
    },
    {
      "cell_type": "code",
      "source": [
        "df_dogs.head()"
      ],
      "metadata": {
        "colab": {
          "base_uri": "https://localhost:8080/",
          "height": 490
        },
        "id": "aNEu1yWQiL-k",
        "outputId": "ffbbb30f-03d6-41d1-c0b0-d9f182486651"
      },
      "execution_count": 55,
      "outputs": [
        {
          "output_type": "execute_result",
          "data": {
            "text/plain": [
              "   Unnamed: 0            tweet_id                  timestamp  \\\n",
              "0        1980  667435689202614272  2015-11-19 20:14:03+00:00   \n",
              "1        1979  667437278097252352  2015-11-19 20:20:22+00:00   \n",
              "2        1978  667443425659232256  2015-11-19 20:44:47+00:00   \n",
              "3        1977  667453023279554560  2015-11-19 21:22:56+00:00   \n",
              "4        1976  667455448082227200  2015-11-19 21:32:34+00:00   \n",
              "\n",
              "                                                text  \\\n",
              "0            Ermergerd 12/10 https://t.co/PQni2sjPsm   \n",
              "1  Never seen this breed before. Very pointy pup....   \n",
              "2  Exotic dog here. Long neck. Weird paws. Obsess...   \n",
              "3  Meet Cupcake. I would do unspeakable things fo...   \n",
              "4  This is Reese and Twips. Reese protects Twips....   \n",
              "\n",
              "                                       expanded_urls  rating_numerator  \\\n",
              "0  https://twitter.com/dog_rates/status/667435689...              12.0   \n",
              "1  https://twitter.com/dog_rates/status/667437278...              10.0   \n",
              "2  https://twitter.com/dog_rates/status/667443425...               6.0   \n",
              "3  https://twitter.com/dog_rates/status/667453023...              11.0   \n",
              "4  https://twitter.com/dog_rates/status/667455448...               7.0   \n",
              "\n",
              "   rating_denominator     name  \\\n",
              "0                  10      NaN   \n",
              "1                  10      NaN   \n",
              "2                  10      NaN   \n",
              "3                  10  Cupcake   \n",
              "4                  10    Reese   \n",
              "\n",
              "                                           jpg_url                  p1  ...  \\\n",
              "0  https://pbs.twimg.com/media/CUM1OHCW4AEgGSi.jpg          Rottweiler  ...   \n",
              "1  https://pbs.twimg.com/media/CUM2qWaWoAUZ06L.jpg           porcupine  ...   \n",
              "2  https://pbs.twimg.com/media/CUM8QZwW4AAVsBl.jpg               goose  ...   \n",
              "3  https://pbs.twimg.com/media/CUNE_OSUwAAdHhX.jpg  Labrador retriever  ...   \n",
              "4  https://pbs.twimg.com/media/CUNHMXTU8AAS3HH.jpg     Tibetan terrier  ...   \n",
              "\n",
              "                   p2   p2_conf p2_dog                         p3   p3_conf  \\\n",
              "0  miniature pinscher  0.000450   True    black-and-tan coonhound  0.000157   \n",
              "1          bath towel  0.006300  False                     badger  0.000966   \n",
              "2               drake  0.006918  False                        hen  0.005255   \n",
              "3      French bulldog  0.056639   True  Staffordshire bullterrier  0.054018   \n",
              "4       Irish terrier  0.054933   True          Yorkshire terrier  0.040576   \n",
              "\n",
              "  p3_dog  favorite_count  retweet_count  dog_stage  rating  \n",
              "0   True             265             76        NaN     1.2  \n",
              "1  False             396            198        NaN     1.0  \n",
              "2  False             682            489        NaN     0.6  \n",
              "3   True             279             74        NaN     1.1  \n",
              "4   True             171             53        NaN     0.7  \n",
              "\n",
              "[5 rows x 22 columns]"
            ],
            "text/html": [
              "\n",
              "  <div id=\"df-51d7dde2-c606-4ca5-a1e1-94557c89b580\">\n",
              "    <div class=\"colab-df-container\">\n",
              "      <div>\n",
              "<style scoped>\n",
              "    .dataframe tbody tr th:only-of-type {\n",
              "        vertical-align: middle;\n",
              "    }\n",
              "\n",
              "    .dataframe tbody tr th {\n",
              "        vertical-align: top;\n",
              "    }\n",
              "\n",
              "    .dataframe thead th {\n",
              "        text-align: right;\n",
              "    }\n",
              "</style>\n",
              "<table border=\"1\" class=\"dataframe\">\n",
              "  <thead>\n",
              "    <tr style=\"text-align: right;\">\n",
              "      <th></th>\n",
              "      <th>Unnamed: 0</th>\n",
              "      <th>tweet_id</th>\n",
              "      <th>timestamp</th>\n",
              "      <th>text</th>\n",
              "      <th>expanded_urls</th>\n",
              "      <th>rating_numerator</th>\n",
              "      <th>rating_denominator</th>\n",
              "      <th>name</th>\n",
              "      <th>jpg_url</th>\n",
              "      <th>p1</th>\n",
              "      <th>...</th>\n",
              "      <th>p2</th>\n",
              "      <th>p2_conf</th>\n",
              "      <th>p2_dog</th>\n",
              "      <th>p3</th>\n",
              "      <th>p3_conf</th>\n",
              "      <th>p3_dog</th>\n",
              "      <th>favorite_count</th>\n",
              "      <th>retweet_count</th>\n",
              "      <th>dog_stage</th>\n",
              "      <th>rating</th>\n",
              "    </tr>\n",
              "  </thead>\n",
              "  <tbody>\n",
              "    <tr>\n",
              "      <th>0</th>\n",
              "      <td>1980</td>\n",
              "      <td>667435689202614272</td>\n",
              "      <td>2015-11-19 20:14:03+00:00</td>\n",
              "      <td>Ermergerd 12/10 https://t.co/PQni2sjPsm</td>\n",
              "      <td>https://twitter.com/dog_rates/status/667435689...</td>\n",
              "      <td>12.0</td>\n",
              "      <td>10</td>\n",
              "      <td>NaN</td>\n",
              "      <td>https://pbs.twimg.com/media/CUM1OHCW4AEgGSi.jpg</td>\n",
              "      <td>Rottweiler</td>\n",
              "      <td>...</td>\n",
              "      <td>miniature pinscher</td>\n",
              "      <td>0.000450</td>\n",
              "      <td>True</td>\n",
              "      <td>black-and-tan coonhound</td>\n",
              "      <td>0.000157</td>\n",
              "      <td>True</td>\n",
              "      <td>265</td>\n",
              "      <td>76</td>\n",
              "      <td>NaN</td>\n",
              "      <td>1.2</td>\n",
              "    </tr>\n",
              "    <tr>\n",
              "      <th>1</th>\n",
              "      <td>1979</td>\n",
              "      <td>667437278097252352</td>\n",
              "      <td>2015-11-19 20:20:22+00:00</td>\n",
              "      <td>Never seen this breed before. Very pointy pup....</td>\n",
              "      <td>https://twitter.com/dog_rates/status/667437278...</td>\n",
              "      <td>10.0</td>\n",
              "      <td>10</td>\n",
              "      <td>NaN</td>\n",
              "      <td>https://pbs.twimg.com/media/CUM2qWaWoAUZ06L.jpg</td>\n",
              "      <td>porcupine</td>\n",
              "      <td>...</td>\n",
              "      <td>bath towel</td>\n",
              "      <td>0.006300</td>\n",
              "      <td>False</td>\n",
              "      <td>badger</td>\n",
              "      <td>0.000966</td>\n",
              "      <td>False</td>\n",
              "      <td>396</td>\n",
              "      <td>198</td>\n",
              "      <td>NaN</td>\n",
              "      <td>1.0</td>\n",
              "    </tr>\n",
              "    <tr>\n",
              "      <th>2</th>\n",
              "      <td>1978</td>\n",
              "      <td>667443425659232256</td>\n",
              "      <td>2015-11-19 20:44:47+00:00</td>\n",
              "      <td>Exotic dog here. Long neck. Weird paws. Obsess...</td>\n",
              "      <td>https://twitter.com/dog_rates/status/667443425...</td>\n",
              "      <td>6.0</td>\n",
              "      <td>10</td>\n",
              "      <td>NaN</td>\n",
              "      <td>https://pbs.twimg.com/media/CUM8QZwW4AAVsBl.jpg</td>\n",
              "      <td>goose</td>\n",
              "      <td>...</td>\n",
              "      <td>drake</td>\n",
              "      <td>0.006918</td>\n",
              "      <td>False</td>\n",
              "      <td>hen</td>\n",
              "      <td>0.005255</td>\n",
              "      <td>False</td>\n",
              "      <td>682</td>\n",
              "      <td>489</td>\n",
              "      <td>NaN</td>\n",
              "      <td>0.6</td>\n",
              "    </tr>\n",
              "    <tr>\n",
              "      <th>3</th>\n",
              "      <td>1977</td>\n",
              "      <td>667453023279554560</td>\n",
              "      <td>2015-11-19 21:22:56+00:00</td>\n",
              "      <td>Meet Cupcake. I would do unspeakable things fo...</td>\n",
              "      <td>https://twitter.com/dog_rates/status/667453023...</td>\n",
              "      <td>11.0</td>\n",
              "      <td>10</td>\n",
              "      <td>Cupcake</td>\n",
              "      <td>https://pbs.twimg.com/media/CUNE_OSUwAAdHhX.jpg</td>\n",
              "      <td>Labrador retriever</td>\n",
              "      <td>...</td>\n",
              "      <td>French bulldog</td>\n",
              "      <td>0.056639</td>\n",
              "      <td>True</td>\n",
              "      <td>Staffordshire bullterrier</td>\n",
              "      <td>0.054018</td>\n",
              "      <td>True</td>\n",
              "      <td>279</td>\n",
              "      <td>74</td>\n",
              "      <td>NaN</td>\n",
              "      <td>1.1</td>\n",
              "    </tr>\n",
              "    <tr>\n",
              "      <th>4</th>\n",
              "      <td>1976</td>\n",
              "      <td>667455448082227200</td>\n",
              "      <td>2015-11-19 21:32:34+00:00</td>\n",
              "      <td>This is Reese and Twips. Reese protects Twips....</td>\n",
              "      <td>https://twitter.com/dog_rates/status/667455448...</td>\n",
              "      <td>7.0</td>\n",
              "      <td>10</td>\n",
              "      <td>Reese</td>\n",
              "      <td>https://pbs.twimg.com/media/CUNHMXTU8AAS3HH.jpg</td>\n",
              "      <td>Tibetan terrier</td>\n",
              "      <td>...</td>\n",
              "      <td>Irish terrier</td>\n",
              "      <td>0.054933</td>\n",
              "      <td>True</td>\n",
              "      <td>Yorkshire terrier</td>\n",
              "      <td>0.040576</td>\n",
              "      <td>True</td>\n",
              "      <td>171</td>\n",
              "      <td>53</td>\n",
              "      <td>NaN</td>\n",
              "      <td>0.7</td>\n",
              "    </tr>\n",
              "  </tbody>\n",
              "</table>\n",
              "<p>5 rows × 22 columns</p>\n",
              "</div>\n",
              "      <button class=\"colab-df-convert\" onclick=\"convertToInteractive('df-51d7dde2-c606-4ca5-a1e1-94557c89b580')\"\n",
              "              title=\"Convert this dataframe to an interactive table.\"\n",
              "              style=\"display:none;\">\n",
              "        \n",
              "  <svg xmlns=\"http://www.w3.org/2000/svg\" height=\"24px\"viewBox=\"0 0 24 24\"\n",
              "       width=\"24px\">\n",
              "    <path d=\"M0 0h24v24H0V0z\" fill=\"none\"/>\n",
              "    <path d=\"M18.56 5.44l.94 2.06.94-2.06 2.06-.94-2.06-.94-.94-2.06-.94 2.06-2.06.94zm-11 1L8.5 8.5l.94-2.06 2.06-.94-2.06-.94L8.5 2.5l-.94 2.06-2.06.94zm10 10l.94 2.06.94-2.06 2.06-.94-2.06-.94-.94-2.06-.94 2.06-2.06.94z\"/><path d=\"M17.41 7.96l-1.37-1.37c-.4-.4-.92-.59-1.43-.59-.52 0-1.04.2-1.43.59L10.3 9.45l-7.72 7.72c-.78.78-.78 2.05 0 2.83L4 21.41c.39.39.9.59 1.41.59.51 0 1.02-.2 1.41-.59l7.78-7.78 2.81-2.81c.8-.78.8-2.07 0-2.86zM5.41 20L4 18.59l7.72-7.72 1.47 1.35L5.41 20z\"/>\n",
              "  </svg>\n",
              "      </button>\n",
              "      \n",
              "  <style>\n",
              "    .colab-df-container {\n",
              "      display:flex;\n",
              "      flex-wrap:wrap;\n",
              "      gap: 12px;\n",
              "    }\n",
              "\n",
              "    .colab-df-convert {\n",
              "      background-color: #E8F0FE;\n",
              "      border: none;\n",
              "      border-radius: 50%;\n",
              "      cursor: pointer;\n",
              "      display: none;\n",
              "      fill: #1967D2;\n",
              "      height: 32px;\n",
              "      padding: 0 0 0 0;\n",
              "      width: 32px;\n",
              "    }\n",
              "\n",
              "    .colab-df-convert:hover {\n",
              "      background-color: #E2EBFA;\n",
              "      box-shadow: 0px 1px 2px rgba(60, 64, 67, 0.3), 0px 1px 3px 1px rgba(60, 64, 67, 0.15);\n",
              "      fill: #174EA6;\n",
              "    }\n",
              "\n",
              "    [theme=dark] .colab-df-convert {\n",
              "      background-color: #3B4455;\n",
              "      fill: #D2E3FC;\n",
              "    }\n",
              "\n",
              "    [theme=dark] .colab-df-convert:hover {\n",
              "      background-color: #434B5C;\n",
              "      box-shadow: 0px 1px 3px 1px rgba(0, 0, 0, 0.15);\n",
              "      filter: drop-shadow(0px 1px 2px rgba(0, 0, 0, 0.3));\n",
              "      fill: #FFFFFF;\n",
              "    }\n",
              "  </style>\n",
              "\n",
              "      <script>\n",
              "        const buttonEl =\n",
              "          document.querySelector('#df-51d7dde2-c606-4ca5-a1e1-94557c89b580 button.colab-df-convert');\n",
              "        buttonEl.style.display =\n",
              "          google.colab.kernel.accessAllowed ? 'block' : 'none';\n",
              "\n",
              "        async function convertToInteractive(key) {\n",
              "          const element = document.querySelector('#df-51d7dde2-c606-4ca5-a1e1-94557c89b580');\n",
              "          const dataTable =\n",
              "            await google.colab.kernel.invokeFunction('convertToInteractive',\n",
              "                                                     [key], {});\n",
              "          if (!dataTable) return;\n",
              "\n",
              "          const docLinkHtml = 'Like what you see? Visit the ' +\n",
              "            '<a target=\"_blank\" href=https://colab.research.google.com/notebooks/data_table.ipynb>data table notebook</a>'\n",
              "            + ' to learn more about interactive tables.';\n",
              "          element.innerHTML = '';\n",
              "          dataTable['output_type'] = 'display_data';\n",
              "          await google.colab.output.renderOutput(dataTable, element);\n",
              "          const docLink = document.createElement('div');\n",
              "          docLink.innerHTML = docLinkHtml;\n",
              "          element.appendChild(docLink);\n",
              "        }\n",
              "      </script>\n",
              "    </div>\n",
              "  </div>\n",
              "  "
            ]
          },
          "metadata": {},
          "execution_count": 55
        }
      ]
    },
    {
      "cell_type": "markdown",
      "source": [
        "###Rating Vs Retweet count"
      ],
      "metadata": {
        "id": "zF5wThXdT5jD"
      }
    },
    {
      "cell_type": "code",
      "source": [
        "plt.style.use('ggplot')"
      ],
      "metadata": {
        "id": "jmYFIuttUkpR"
      },
      "execution_count": 56,
      "outputs": []
    },
    {
      "cell_type": "code",
      "source": [
        "df_dogs['rating'].value_counts()"
      ],
      "metadata": {
        "colab": {
          "base_uri": "https://localhost:8080/"
        },
        "id": "J66nCw5bVSTd",
        "outputId": "a6fc643d-8787-4d44-c356-6cb87eba1977"
      },
      "execution_count": 57,
      "outputs": [
        {
          "output_type": "execute_result",
          "data": {
            "text/plain": [
              "1.200000      456\n",
              "1.000000      420\n",
              "1.100000      403\n",
              "1.300000      260\n",
              "0.900000      151\n",
              "0.800000       95\n",
              "0.700000       51\n",
              "1.400000       36\n",
              "0.500000       34\n",
              "0.600000       32\n",
              "0.300000       19\n",
              "0.400000       15\n",
              "0.200000       10\n",
              "0.100000        4\n",
              "0.000000        2\n",
              "0.975000        1\n",
              "177.600000      1\n",
              "0.818182        1\n",
              "1.500000        1\n",
              "1.350000        1\n",
              "3.428571        1\n",
              "1.126000        1\n",
              "42.000000       1\n",
              "0.636364        1\n",
              "1.127000        1\n",
              "Name: rating, dtype: int64"
            ]
          },
          "metadata": {},
          "execution_count": 57
        }
      ]
    },
    {
      "cell_type": "markdown",
      "source": [
        "###Remove outliers"
      ],
      "metadata": {
        "id": "4tt4Bx3_VxEt"
      }
    },
    {
      "cell_type": "code",
      "source": [
        "df_dogs = df_dogs[df_dogs['rating']<1.5]"
      ],
      "metadata": {
        "id": "sZfVxkCGV0jc"
      },
      "execution_count": 58,
      "outputs": []
    },
    {
      "cell_type": "markdown",
      "source": [
        "###Rating over time"
      ],
      "metadata": {
        "id": "0w4R3DV6WBNz"
      }
    },
    {
      "cell_type": "code",
      "source": [
        "import matplotlib.dates as mdates\n",
        "from matplotlib.dates import DateFormatter\n",
        "\n",
        "\n",
        "# Handle date time conversions between pandas and matplotlib\n",
        "from pandas.plotting import register_matplotlib_converters\n",
        "register_matplotlib_converters()"
      ],
      "metadata": {
        "id": "J9NbAMgPZHzX"
      },
      "execution_count": 59,
      "outputs": []
    },
    {
      "cell_type": "code",
      "source": [
        "fig, ax = plt.subplots(figsize=(12, 12))\n",
        "rating_history = df_dogs.groupby('timestamp')['rating'].mean()\n",
        "date_form = DateFormatter(\"%y-%m\")\n",
        "ax.xaxis.set_major_formatter(date_form)\n",
        "rating_history.plot(ax=ax, rot=75)\n",
        "ax.xaxis_date()\n",
        "ax.set(title = 'Rating over Time',\n",
        "xlabel ='Time',ylabel ='Standardized Rating')\n",
        "\n"
      ],
      "metadata": {
        "colab": {
          "base_uri": "https://localhost:8080/",
          "height": 916
        },
        "id": "l_ZmyhlYWAgS",
        "outputId": "7170f782-2ddc-424a-edc8-21f5e1663e1e"
      },
      "execution_count": 60,
      "outputs": [
        {
          "output_type": "execute_result",
          "data": {
            "text/plain": [
              "[Text(0, 0.5, 'Standardized Rating'),\n",
              " Text(0.5, 0, 'Time'),\n",
              " Text(0.5, 1.0, 'Rating over Time')]"
            ]
          },
          "metadata": {},
          "execution_count": 60
        },
        {
          "output_type": "display_data",
          "data": {
            "text/plain": [
              "<Figure size 864x864 with 1 Axes>"
            ],
            "image/png": "[encoded data removed]"
          },
          "metadata": {}
        }
      ]
    },
    {
      "cell_type": "markdown",
      "source": [
        "##Relationship between ratings and retweets"
      ],
      "metadata": {
        "id": "hJKpo67pcWcz"
      }
    },
    {
      "cell_type": "code",
      "source": [
        "df_dogs.plot(x='retweet_count', y='rating', kind='scatter')\n",
        "plt.xlabel('Retweet Counts')\n",
        "plt.ylabel('Ratings')\n",
        "plt.title('Rating Vs Retweet Counts')"
      ],
      "metadata": {
        "colab": {
          "base_uri": "https://localhost:8080/",
          "height": 316
        },
        "id": "NXMvNrdZcNbh",
        "outputId": "72090239-f53f-4483-f4f4-75b24170b3fc"
      },
      "execution_count": 61,
      "outputs": [
        {
          "output_type": "execute_result",
          "data": {
            "text/plain": [
              "Text(0.5, 1.0, 'Rating Vs Retweet Counts')"
            ]
          },
          "metadata": {},
          "execution_count": 61
        },
        {
          "output_type": "display_data",
          "data": {
            "text/plain": [
              "<Figure size 432x288 with 1 Axes>"
            ],
            "image/png": "[encoded data removed]"
          },
          "metadata": {}
        }
      ]
    },
    {
      "cell_type": "markdown",
      "source": [
        "###Relationship between favorites and retweets"
      ],
      "metadata": {
        "id": "WvRAoP4gcf-7"
      }
    },
    {
      "cell_type": "code",
      "source": [
        "sns.lmplot(x=\"retweet_count\", \n",
        "           y=\"favorite_count\", \n",
        "           data=df_dogs,\n",
        "           size = 5,\n",
        "           aspect=1.3,\n",
        "           scatter_kws={'alpha':0.6})\n",
        "plt.title('Favorite vs Retweet Count')\n",
        "plt.xlabel('Retweet Count')\n",
        "plt.ylabel('Favorite Count');"
      ],
      "metadata": {
        "colab": {
          "base_uri": "https://localhost:8080/",
          "height": 441
        },
        "id": "_--dlQgBcquX",
        "outputId": "e2a2e675-5253-4889-ca9e-41d74543baa9"
      },
      "execution_count": 62,
      "outputs": [
        {
          "output_type": "stream",
          "name": "stderr",
          "text": [
            "/usr/local/lib/python3.7/dist-packages/seaborn/regression.py:581: UserWarning: The `size` parameter has been renamed to `height`; please update your code.\n",
            "  warnings.warn(msg, UserWarning)\n"
          ]
        },
        {
          "output_type": "display_data",
          "data": {
            "text/plain": [
              "<Figure size 468x360 with 1 Axes>"
            ],
            "image/png": "[encoded data removed]"
          },
          "metadata": {}
        }
      ]
    },
    {
      "cell_type": "markdown",
      "source": [
        "##Most Common Dog Stage"
      ],
      "metadata": {
        "id": "kZZhT4fregwz"
      }
    },
    {
      "cell_type": "code",
      "source": [
        "dog_stage = df_dogs['dog_stage'].value_counts()\n",
        "sns.barplot(dog_stage.values, dog_stage.index)\n",
        "plt.suptitle('Most common dog stage')"
      ],
      "metadata": {
        "colab": {
          "base_uri": "https://localhost:8080/",
          "height": 366
        },
        "id": "ufLNe0soekk8",
        "outputId": "02621ae4-c35c-4595-866a-62e424b2a7e9"
      },
      "execution_count": 63,
      "outputs": [
        {
          "output_type": "stream",
          "name": "stderr",
          "text": [
            "/usr/local/lib/python3.7/dist-packages/seaborn/_decorators.py:43: FutureWarning: Pass the following variables as keyword args: x, y. From version 0.12, the only valid positional argument will be `data`, and passing other arguments without an explicit keyword will result in an error or misinterpretation.\n",
            "  FutureWarning\n"
          ]
        },
        {
          "output_type": "execute_result",
          "data": {
            "text/plain": [
              "Text(0.5, 0.98, 'Most common dog stage')"
            ]
          },
          "metadata": {},
          "execution_count": 63
        },
        {
          "output_type": "display_data",
          "data": {
            "text/plain": [
              "<Figure size 432x288 with 1 Axes>"
            ],
            "image/png": "[encoded data removed]"
          },
          "metadata": {}
        }
      ]
    },
    {
      "cell_type": "markdown",
      "source": [
        "###Pupper is the most common dog stage"
      ],
      "metadata": {
        "id": "H0aOxDgEfVM7"
      }
    },
    {
      "cell_type": "markdown",
      "source": [
        "##Most common dog names"
      ],
      "metadata": {
        "id": "Sl6jZ9MHfcSN"
      }
    },
    {
      "cell_type": "code",
      "source": [
        "dog_names = df_dogs['name'].value_counts()[:15]\n",
        "sns.barplot(dog_names.values,dog_names.index)\n",
        "plt.suptitle('Most common dog names')"
      ],
      "metadata": {
        "colab": {
          "base_uri": "https://localhost:8080/",
          "height": 366
        },
        "id": "TI9zZVK_f2WO",
        "outputId": "9189ad72-e226-48b3-ca58-4e3b3ee7c1f4"
      },
      "execution_count": 64,
      "outputs": [
        {
          "output_type": "stream",
          "name": "stderr",
          "text": [
            "/usr/local/lib/python3.7/dist-packages/seaborn/_decorators.py:43: FutureWarning: Pass the following variables as keyword args: x, y. From version 0.12, the only valid positional argument will be `data`, and passing other arguments without an explicit keyword will result in an error or misinterpretation.\n",
            "  FutureWarning\n"
          ]
        },
        {
          "output_type": "execute_result",
          "data": {
            "text/plain": [
              "Text(0.5, 0.98, 'Most common dog names')"
            ]
          },
          "metadata": {},
          "execution_count": 64
        },
        {
          "output_type": "display_data",
          "data": {
            "text/plain": [
              "<Figure size 432x288 with 1 Axes>"
            ],
            "image/png": "[encoded data removed]"
          },
          "metadata": {}
        }
      ]
    },
    {
      "cell_type": "markdown",
      "source": [
        "###The most common Dog names are Cooper, Charlie, Oliver, Tucker, Lucy and Penny."
      ],
      "metadata": {
        "id": "KiXBRsEJg5zt"
      }
    },
    {
      "cell_type": "markdown",
      "source": [
        "###Most common Dog type"
      ],
      "metadata": {
        "id": "h2MPjtPShNty"
      }
    },
    {
      "cell_type": "code",
      "source": [
        "dog_type = df_dogs['p1'].value_counts()[:10]\n",
        "sns.barplot(dog_type.values, dog_type.index)\n",
        "plt.suptitle('Most common dog type')"
      ],
      "metadata": {
        "colab": {
          "base_uri": "https://localhost:8080/",
          "height": 366
        },
        "id": "OjGsBt4OhRLm",
        "outputId": "36cb5fa3-3823-426a-811c-27fc010be3c8"
      },
      "execution_count": 65,
      "outputs": [
        {
          "output_type": "stream",
          "name": "stderr",
          "text": [
            "/usr/local/lib/python3.7/dist-packages/seaborn/_decorators.py:43: FutureWarning: Pass the following variables as keyword args: x, y. From version 0.12, the only valid positional argument will be `data`, and passing other arguments without an explicit keyword will result in an error or misinterpretation.\n",
            "  FutureWarning\n"
          ]
        },
        {
          "output_type": "execute_result",
          "data": {
            "text/plain": [
              "Text(0.5, 0.98, 'Most common dog type')"
            ]
          },
          "metadata": {},
          "execution_count": 65
        },
        {
          "output_type": "display_data",
          "data": {
            "text/plain": [
              "<Figure size 432x288 with 1 Axes>"
            ],
            "image/png": "[encoded data removed]"
          },
          "metadata": {}
        }
      ]
    },
    {
      "cell_type": "markdown",
      "source": [
        "###Most common dog type is the golden retriever, labrador retriever , penbrooke and the chihuahua."
      ],
      "metadata": {
        "id": "z_G0hrRJhYA2"
      }
    },
    {
      "cell_type": "markdown",
      "source": [
        "###Sample prediction by image prediction model"
      ],
      "metadata": {
        "id": "IoKZefbBhlY3"
      }
    },
    {
      "cell_type": "code",
      "source": [
        "dog = df_dogs[(df_dogs['rating'] > 1.0) & (df_dogs['dog_stage']=='pupper') & (df_dogs['name']=='Cooper')]"
      ],
      "metadata": {
        "id": "M2H-Es9LhtEI"
      },
      "execution_count": 66,
      "outputs": []
    },
    {
      "cell_type": "code",
      "source": [
        "dog"
      ],
      "metadata": {
        "colab": {
          "base_uri": "https://localhost:8080/",
          "height": 414
        },
        "id": "pBNrAoRFilhg",
        "outputId": "8e72aec4-3026-455a-a8a1-2a461f9852a8"
      },
      "execution_count": 67,
      "outputs": [
        {
          "output_type": "execute_result",
          "data": {
            "text/plain": [
              "      Unnamed: 0            tweet_id                  timestamp  \\\n",
              "1814        4490  814986499976527872  2016-12-31 00:08:17+00:00   \n",
              "1913        5271  699801817392291840  2016-02-17 03:45:29+00:00   \n",
              "\n",
              "                                                   text  \\\n",
              "1814  This is Cooper. Someone attacked him with a sh...   \n",
              "1913  This is Cooper. He began to tear up when his b...   \n",
              "\n",
              "                                          expanded_urls  rating_numerator  \\\n",
              "1814  https://twitter.com/dog_rates/status/814986499...              11.0   \n",
              "1913  https://twitter.com/dog_rates/status/699801817...              11.0   \n",
              "\n",
              "      rating_denominator    name  \\\n",
              "1814                  10  Cooper   \n",
              "1913                  10  Cooper   \n",
              "\n",
              "                                              jpg_url                p1  ...  \\\n",
              "1814  https://pbs.twimg.com/media/C09p5dJWIAE5qKL.jpg         dalmatian  ...   \n",
              "1913  https://pbs.twimg.com/media/CbYyCMcWIAAHHjF.jpg  golden retriever  ...   \n",
              "\n",
              "                p2   p2_conf p2_dog                              p3   p3_conf  \\\n",
              "1814         boxer  0.000068   True  American Staffordshire terrier  0.000034   \n",
              "1913  Irish setter  0.042428   True              Labrador retriever  0.023536   \n",
              "\n",
              "     p3_dog  favorite_count  retweet_count  dog_stage  rating  \n",
              "1814   True            7250           1187     pupper     1.1  \n",
              "1913   True            2781            851     pupper     1.1  \n",
              "\n",
              "[2 rows x 22 columns]"
            ],
            "text/html": [
              "\n",
              "  <div id=\"df-0f5cde5a-4d35-4c5f-9983-f5ec4c785dc0\">\n",
              "    <div class=\"colab-df-container\">\n",
              "      <div>\n",
              "<style scoped>\n",
              "    .dataframe tbody tr th:only-of-type {\n",
              "        vertical-align: middle;\n",
              "    }\n",
              "\n",
              "    .dataframe tbody tr th {\n",
              "        vertical-align: top;\n",
              "    }\n",
              "\n",
              "    .dataframe thead th {\n",
              "        text-align: right;\n",
              "    }\n",
              "</style>\n",
              "<table border=\"1\" class=\"dataframe\">\n",
              "  <thead>\n",
              "    <tr style=\"text-align: right;\">\n",
              "      <th></th>\n",
              "      <th>Unnamed: 0</th>\n",
              "      <th>tweet_id</th>\n",
              "      <th>timestamp</th>\n",
              "      <th>text</th>\n",
              "      <th>expanded_urls</th>\n",
              "      <th>rating_numerator</th>\n",
              "      <th>rating_denominator</th>\n",
              "      <th>name</th>\n",
              "      <th>jpg_url</th>\n",
              "      <th>p1</th>\n",
              "      <th>...</th>\n",
              "      <th>p2</th>\n",
              "      <th>p2_conf</th>\n",
              "      <th>p2_dog</th>\n",
              "      <th>p3</th>\n",
              "      <th>p3_conf</th>\n",
              "      <th>p3_dog</th>\n",
              "      <th>favorite_count</th>\n",
              "      <th>retweet_count</th>\n",
              "      <th>dog_stage</th>\n",
              "      <th>rating</th>\n",
              "    </tr>\n",
              "  </thead>\n",
              "  <tbody>\n",
              "    <tr>\n",
              "      <th>1814</th>\n",
              "      <td>4490</td>\n",
              "      <td>814986499976527872</td>\n",
              "      <td>2016-12-31 00:08:17+00:00</td>\n",
              "      <td>This is Cooper. Someone attacked him with a sh...</td>\n",
              "      <td>https://twitter.com/dog_rates/status/814986499...</td>\n",
              "      <td>11.0</td>\n",
              "      <td>10</td>\n",
              "      <td>Cooper</td>\n",
              "      <td>https://pbs.twimg.com/media/C09p5dJWIAE5qKL.jpg</td>\n",
              "      <td>dalmatian</td>\n",
              "      <td>...</td>\n",
              "      <td>boxer</td>\n",
              "      <td>0.000068</td>\n",
              "      <td>True</td>\n",
              "      <td>American Staffordshire terrier</td>\n",
              "      <td>0.000034</td>\n",
              "      <td>True</td>\n",
              "      <td>7250</td>\n",
              "      <td>1187</td>\n",
              "      <td>pupper</td>\n",
              "      <td>1.1</td>\n",
              "    </tr>\n",
              "    <tr>\n",
              "      <th>1913</th>\n",
              "      <td>5271</td>\n",
              "      <td>699801817392291840</td>\n",
              "      <td>2016-02-17 03:45:29+00:00</td>\n",
              "      <td>This is Cooper. He began to tear up when his b...</td>\n",
              "      <td>https://twitter.com/dog_rates/status/699801817...</td>\n",
              "      <td>11.0</td>\n",
              "      <td>10</td>\n",
              "      <td>Cooper</td>\n",
              "      <td>https://pbs.twimg.com/media/CbYyCMcWIAAHHjF.jpg</td>\n",
              "      <td>golden retriever</td>\n",
              "      <td>...</td>\n",
              "      <td>Irish setter</td>\n",
              "      <td>0.042428</td>\n",
              "      <td>True</td>\n",
              "      <td>Labrador retriever</td>\n",
              "      <td>0.023536</td>\n",
              "      <td>True</td>\n",
              "      <td>2781</td>\n",
              "      <td>851</td>\n",
              "      <td>pupper</td>\n",
              "      <td>1.1</td>\n",
              "    </tr>\n",
              "  </tbody>\n",
              "</table>\n",
              "<p>2 rows × 22 columns</p>\n",
              "</div>\n",
              "      <button class=\"colab-df-convert\" onclick=\"convertToInteractive('df-0f5cde5a-4d35-4c5f-9983-f5ec4c785dc0')\"\n",
              "              title=\"Convert this dataframe to an interactive table.\"\n",
              "              style=\"display:none;\">\n",
              "        \n",
              "  <svg xmlns=\"http://www.w3.org/2000/svg\" height=\"24px\"viewBox=\"0 0 24 24\"\n",
              "       width=\"24px\">\n",
              "    <path d=\"M0 0h24v24H0V0z\" fill=\"none\"/>\n",
              "    <path d=\"M18.56 5.44l.94 2.06.94-2.06 2.06-.94-2.06-.94-.94-2.06-.94 2.06-2.06.94zm-11 1L8.5 8.5l.94-2.06 2.06-.94-2.06-.94L8.5 2.5l-.94 2.06-2.06.94zm10 10l.94 2.06.94-2.06 2.06-.94-2.06-.94-.94-2.06-.94 2.06-2.06.94z\"/><path d=\"M17.41 7.96l-1.37-1.37c-.4-.4-.92-.59-1.43-.59-.52 0-1.04.2-1.43.59L10.3 9.45l-7.72 7.72c-.78.78-.78 2.05 0 2.83L4 21.41c.39.39.9.59 1.41.59.51 0 1.02-.2 1.41-.59l7.78-7.78 2.81-2.81c.8-.78.8-2.07 0-2.86zM5.41 20L4 18.59l7.72-7.72 1.47 1.35L5.41 20z\"/>\n",
              "  </svg>\n",
              "      </button>\n",
              "      \n",
              "  <style>\n",
              "    .colab-df-container {\n",
              "      display:flex;\n",
              "      flex-wrap:wrap;\n",
              "      gap: 12px;\n",
              "    }\n",
              "\n",
              "    .colab-df-convert {\n",
              "      background-color: #E8F0FE;\n",
              "      border: none;\n",
              "      border-radius: 50%;\n",
              "      cursor: pointer;\n",
              "      display: none;\n",
              "      fill: #1967D2;\n",
              "      height: 32px;\n",
              "      padding: 0 0 0 0;\n",
              "      width: 32px;\n",
              "    }\n",
              "\n",
              "    .colab-df-convert:hover {\n",
              "      background-color: #E2EBFA;\n",
              "      box-shadow: 0px 1px 2px rgba(60, 64, 67, 0.3), 0px 1px 3px 1px rgba(60, 64, 67, 0.15);\n",
              "      fill: #174EA6;\n",
              "    }\n",
              "\n",
              "    [theme=dark] .colab-df-convert {\n",
              "      background-color: #3B4455;\n",
              "      fill: #D2E3FC;\n",
              "    }\n",
              "\n",
              "    [theme=dark] .colab-df-convert:hover {\n",
              "      background-color: #434B5C;\n",
              "      box-shadow: 0px 1px 3px 1px rgba(0, 0, 0, 0.15);\n",
              "      filter: drop-shadow(0px 1px 2px rgba(0, 0, 0, 0.3));\n",
              "      fill: #FFFFFF;\n",
              "    }\n",
              "  </style>\n",
              "\n",
              "      <script>\n",
              "        const buttonEl =\n",
              "          document.querySelector('#df-0f5cde5a-4d35-4c5f-9983-f5ec4c785dc0 button.colab-df-convert');\n",
              "        buttonEl.style.display =\n",
              "          google.colab.kernel.accessAllowed ? 'block' : 'none';\n",
              "\n",
              "        async function convertToInteractive(key) {\n",
              "          const element = document.querySelector('#df-0f5cde5a-4d35-4c5f-9983-f5ec4c785dc0');\n",
              "          const dataTable =\n",
              "            await google.colab.kernel.invokeFunction('convertToInteractive',\n",
              "                                                     [key], {});\n",
              "          if (!dataTable) return;\n",
              "\n",
              "          const docLinkHtml = 'Like what you see? Visit the ' +\n",
              "            '<a target=\"_blank\" href=https://colab.research.google.com/notebooks/data_table.ipynb>data table notebook</a>'\n",
              "            + ' to learn more about interactive tables.';\n",
              "          element.innerHTML = '';\n",
              "          dataTable['output_type'] = 'display_data';\n",
              "          await google.colab.output.renderOutput(dataTable, element);\n",
              "          const docLink = document.createElement('div');\n",
              "          docLink.innerHTML = docLinkHtml;\n",
              "          element.appendChild(docLink);\n",
              "        }\n",
              "      </script>\n",
              "    </div>\n",
              "  </div>\n",
              "  "
            ]
          },
          "metadata": {},
          "execution_count": 67
        }
      ]
    },
    {
      "cell_type": "code",
      "source": [
        "print(dog['text'].values[0])\n",
        "print(f\"Is dog?: {dog['p1_dog'].values[0]}, type: {dog['p1'].values[0]}, confidence: {dog['p1_conf'].values[0]:.2f}, rating: {dog['rating'].values[0]}, favorites: {dog['favorite_count'].values[0]}, retweets: {dog['retweet_count'].values[0]}\")\n",
        "Image(dog['jpg_url'].values[0])"
      ],
      "metadata": {
        "id": "uvp39ppCjYMa",
        "outputId": "fc828fdd-9dc9-4a16-c95c-378daecc82dc",
        "colab": {
          "base_uri": "https://localhost:8080/",
          "height": 995
        }
      },
      "execution_count": 68,
      "outputs": [
        {
          "output_type": "stream",
          "name": "stdout",
          "text": [
            "This is Cooper. Someone attacked him with a sharpie. Poor pupper. 11/10 nifty tongue slip tho https://t.co/01vpuRDXQ8\n",
            "Is dog?: True, type: dalmatian, confidence: 1.00, rating: 1.1, favorites: 7250, retweets: 1187\n"
          ]
        },
        {
          "output_type": "execute_result",
          "data": {
            "text/plain": [
              "<IPython.core.display.Image object>"
            ],
            "image/jpeg": "[encoded data removed]"
          },
          "metadata": {},
          "execution_count": 68
        }
      ]
    }
  ]
}